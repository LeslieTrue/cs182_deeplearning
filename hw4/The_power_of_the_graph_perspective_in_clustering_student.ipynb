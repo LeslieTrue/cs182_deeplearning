{
  "cells": [
    {
      "cell_type": "markdown",
      "metadata": {
        "id": "uWABibFNub_y"
      },
      "source": [
        "University of California, Berkeley\n",
        "Fall 2022, EECS 182/282"
      ]
    },
    {
      "cell_type": "markdown",
      "metadata": {
        "id": "GLHvP-smub_3"
      },
      "source": [
        "## The power of the graph perspective in clustering"
      ]
    },
    {
      "cell_type": "markdown",
      "metadata": {
        "id": "_jKexjWRub_3"
      },
      "source": [
        "#### Dependencies"
      ]
    },
    {
      "cell_type": "code",
      "execution_count": null,
      "metadata": {
        "id": "A5DYeRJsub_4"
      },
      "outputs": [],
      "source": [
        "import numpy as np\n",
        "import matplotlib.pyplot as plt\n",
        "\n",
        "from sklearn.cluster import KMeans\n",
        "from sklearn.datasets import make_blobs\n",
        "import scipy\n",
        "from scipy.linalg import svd\n",
        "from scipy.spatial import distance\n",
        "from sklearn.preprocessing import normalize"
      ]
    },
    {
      "cell_type": "markdown",
      "metadata": {
        "id": "7pt-ii9Yub_6"
      },
      "source": [
        "#### Helper Functions"
      ]
    },
    {
      "cell_type": "code",
      "execution_count": null,
      "metadata": {
        "id": "tAvsoFLSub_6"
      },
      "outputs": [],
      "source": [
        "def show_data_results(X, num_plot=2, y_pred=None, cmap='jet'):\n",
        "    if num_plot==1:\n",
        "        plt.scatter(X[:, 0], X[:, 1])\n",
        "        plt.title (\"input data\")\n",
        "    elif num_plot==2:\n",
        "        try:\n",
        "            assert y_pred is not None\n",
        "            fig = plt.figure(figsize=(10, 3))\n",
        "            ax1 = fig.add_subplot(121)\n",
        "            ax1.scatter(X[:, 0], X[:, 1])\n",
        "            ax1.set(xticks=[],yticks=[],title =\"input data\")\n",
        "\n",
        "            ax2 = fig.add_subplot(122)\n",
        "            ax2.scatter(X[:, 0], X[:, 1], c=y_pred, cmap=cmap)\n",
        "            ax2.set(xticks=[], yticks=[], title =\"clustered data\")\n",
        "        except:\n",
        "            print('y_pred is required for 2 plots')"
      ]
    },
    {
      "cell_type": "markdown",
      "metadata": {
        "id": "YmZDXfpzub_7"
      },
      "source": [
        "## Q.1. (Given)"
      ]
    },
    {
      "cell_type": "markdown",
      "metadata": {
        "id": "3ENItQe1ub_8"
      },
      "source": [
        "Please, read https://en.wikipedia.org/wiki/K-means_clustering about the Kmeans algorithm.\n",
        "\n",
        "In this problem, we will show how interperting a dataset as a graph may result is obtaining an elegant clustering solution. We have an input dataset that we wish to cluster in 3 aparant classes. \n",
        "\n",
        "We provide the synthetic dataset of 2000 points described below where the T_matrix is just a 2D transformation matrix:"
      ]
    },
    {
      "cell_type": "code",
      "execution_count": null,
      "metadata": {
        "id": "4OhTvHbvub_8"
      },
      "outputs": [],
      "source": [
        "T_matrix, seed = [[-0.60834549, -0.63667341], [0.40887718, 0.85253229]], 170\n",
        "X_orig, y_orig = make_blobs(n_samples=2000, random_state=seed)\n",
        "X = np.dot(X_orig, T_matrix)"
      ]
    },
    {
      "cell_type": "code",
      "execution_count": null,
      "metadata": {
        "id": "ZLBHbNrxub_9",
        "outputId": "e96711ce-280e-4e0c-9d21-229cc2449ba5",
        "colab": {
          "base_uri": "https://localhost:8080/",
          "height": 281
        }
      },
      "outputs": [
        {
          "output_type": "display_data",
          "data": {
            "text/plain": [
              "<Figure size 432x288 with 1 Axes>"
            ],
            "image/png": "[encoded data removed]"
          },
          "metadata": {
            "needs_background": "light"
          }
        }
      ],
      "source": [
        "show_data_results(X, num_plot=1)"
      ]
    },
    {
      "cell_type": "markdown",
      "metadata": {
        "id": "FmckdxIXub_-"
      },
      "source": [
        "Using the the Kmeans algorithm implementation of sklearn, show your attempt to cluster this dataset into 3 classes in one luine of code."
      ]
    },
    {
      "cell_type": "markdown",
      "metadata": {
        "id": "xYjR1WEMub_-"
      },
      "source": [
        "## Solution (Given)"
      ]
    },
    {
      "cell_type": "code",
      "execution_count": null,
      "metadata": {
        "id": "dr8CV8Onub__"
      },
      "outputs": [],
      "source": [
        "y_pred = KMeans(n_clusters=3, random_state=seed).fit_predict(X)"
      ]
    },
    {
      "cell_type": "code",
      "execution_count": null,
      "metadata": {
        "id": "Y_5DLR1Uub__",
        "outputId": "04a979a4-9c39-4c65-e37e-5d18126dcd69",
        "colab": {
          "base_uri": "https://localhost:8080/",
          "height": 213
        }
      },
      "outputs": [
        {
          "output_type": "display_data",
          "data": {
            "text/plain": [
              "<Figure size 720x216 with 2 Axes>"
            ],
            "image/png": "[encoded data removed]"
          },
          "metadata": {}
        }
      ],
      "source": [
        "show_data_results(X, 2, y_pred)"
      ]
    },
    {
      "cell_type": "markdown",
      "metadata": {
        "id": "bOU1yPMkucAA"
      },
      "source": [
        "## Q.2."
      ]
    },
    {
      "cell_type": "markdown",
      "metadata": {
        "id": "ZddQvZT-ucAA"
      },
      "source": [
        "Comment on the output the the KMeans algorithm? Did it work? If so explain why, if not, explain not not."
      ]
    },
    {
      "cell_type": "markdown",
      "metadata": {
        "id": "eUO2mK0TucAA"
      },
      "source": [
        "## Solution"
      ]
    },
    {
      "cell_type": "markdown",
      "metadata": {
        "id": "io1CkOz0ucAA"
      },
      "source": [
        "The output is not a good classification. KMeans didn't work well. The distribution of these data points show that the least distance between different classes is not large. Then, KMeans tends to wrongly classify these points."
      ]
    },
    {
      "cell_type": "markdown",
      "metadata": {
        "id": "XIathBpzucAB"
      },
      "source": [
        "## Q.3."
      ]
    },
    {
      "cell_type": "markdown",
      "metadata": {
        "id": "jImewfQFucAB"
      },
      "source": [
        "Let's now interprete every single point in the provided dataset as a node in a graph. Our goal is to find a way to relate every node in the graph is such way that they points that closer together maintain that relationship while points that are far are explicitely identified. \n",
        "\n",
        "lots of points points are closed top each other and kmaeans is missing it. representing as the graph unveils the relation.\n",
        "\n",
        "One way to capture such relationship between points (nodes) in a graph is through the Adjacency matrix. Typically, a simple adjacency matrix between nodes of and indiredted graph is given by:\n",
        "\n",
        "$$A_{i, j}=\\begin{equation}\n",
        "\\left\\{ \n",
        "  \\begin{aligned}\n",
        "    1: \\text{if there is an edge between node i and node j}, \\\\\n",
        "    0: \\text{otherwise.}\\\\\n",
        "  \\end{aligned}\n",
        "  \\right.\n",
        "\\end{equation}\n",
        "$$\n",
        "\n",
        "In this probem, we will use the weighted distances betweeen points instead as a similary measure. Write a function that takes in the input dataset and some coeficient gamma which returns the adjacency matrix A.\n",
        "\n",
        "$$A_{i, j} = e^{\\gamma {||x_{i}-x_{j}||^2}}$$ \n",
        "\n",
        "where $x_{i}$ and $x_{j}$ represent each point in the provided dataset. You may find the $dictance$ module from $scipy.spatial$ useful."
      ]
    },
    {
      "cell_type": "markdown",
      "metadata": {
        "id": "Gx9BBJ8RucAB"
      },
      "source": [
        "## Solution"
      ]
    },
    {
      "cell_type": "code",
      "execution_count": null,
      "metadata": {
        "id": "FFLkEsh5ucAB"
      },
      "outputs": [],
      "source": [
        "def get_adjacency_matrix(gamma, X):\n",
        "    # fill in your code here\n",
        "    distance_mtx = distance.cdist(X,X) ** 2\n",
        "    adjacency_matrix = np.exp(-gamma * distance_mtx)\n",
        "    # adjacency_matrix = np.zeros((len(X), len(X)))\n",
        "    # for i in range(len(X)):\n",
        "    #   for j in range(len(X)):\n",
        "    #     para = gamma * np.linalg.norm((X[i], X[j])) ** 2\n",
        "    #     adjacency_matrix[i][j] = np.exp(para)\n",
        "    return adjacency_matrix"
      ]
    },
    {
      "cell_type": "markdown",
      "metadata": {
        "id": "hnmJfsUPucAC"
      },
      "source": [
        "## Q. 4."
      ]
    },
    {
      "cell_type": "markdown",
      "metadata": {
        "id": "MS6gsCQDucAC"
      },
      "source": [
        "The degree matrix of an undirected graph is a diagonal matrix which contains information about the degree of each vertex. In other word, it contains the number of edges attached to each vertex and it is given by:\n",
        "\n",
        "$$D_{i, j}=\\begin{equation}\n",
        "\\left\\{ \n",
        "  \\begin{aligned}\n",
        "    deg(v_{i}): \\text{if i == j}, \\\\\n",
        "    0: \\text{otherwise.}\\\\\n",
        "  \\end{aligned}\n",
        "  \\right.\n",
        "\\end{equation}\n",
        "$$\n",
        "\n",
        "where the degree $ {\\deg(v_{i})}$ of a vertex counts the number of times an edge terminates at that vertex. Note that in the traditional definition of the adjacency matrix, this boils down to the diagonal matrix in which element along the diagonals are column-wise sum of the adjacency matrix. Using the same idea, write a function that takes in the adjacency matrix as argument and returns the inverse square root of degree matrix.\n"
      ]
    },
    {
      "cell_type": "markdown",
      "metadata": {
        "id": "rmb-qGj3ucAD"
      },
      "source": [
        "## Solution"
      ]
    },
    {
      "cell_type": "code",
      "execution_count": null,
      "metadata": {
        "id": "sGrps4vzucAD"
      },
      "outputs": [],
      "source": [
        "def get_degree_matrix(adjacency_matrix):\n",
        "    # fill in your code here\n",
        "    # degree_matrix = ?\n",
        "    degree_matrix = np.zeros_like(adjacency_matrix)\n",
        "    for i in range(len(degree_matrix)):\n",
        "      degree_matrix[i][i] = 1/np.sqrt(np.sum(adjacency_matrix[:][i]))\n",
        "    return degree_matrix"
      ]
    },
    {
      "cell_type": "markdown",
      "metadata": {
        "id": "UhT14Jl_ucAD"
      },
      "source": []
    },
    {
      "cell_type": "markdown",
      "metadata": {
        "id": "bJnuEzX1ucAD"
      },
      "source": [
        "## Q. 5."
      ]
    },
    {
      "cell_type": "markdown",
      "metadata": {
        "id": "0C8YS_9jucAD"
      },
      "source": [
        "Using $\\gamma$ = 7.5, compute the symmetrically normalized adjacency matrix A, degree matrix D and the matrix $M = D^{-1/2} A D^{-1/2}$"
      ]
    },
    {
      "cell_type": "markdown",
      "metadata": {
        "id": "druFA5leucAE"
      },
      "source": [
        "## Solution"
      ]
    },
    {
      "cell_type": "code",
      "execution_count": null,
      "metadata": {
        "id": "fW_WZydwucAE"
      },
      "outputs": [],
      "source": [
        "adjacency_matrix = get_adjacency_matrix(7.5, X) \n",
        "# print(adjacency_matrix)\n",
        "D = get_degree_matrix(adjacency_matrix)\n",
        "M = D @ adjacency_matrix @ D\n"
      ]
    },
    {
      "cell_type": "markdown",
      "metadata": {
        "id": "KiLAfIbgucAE"
      },
      "source": [
        "## Q. 6."
      ]
    },
    {
      "cell_type": "markdown",
      "metadata": {
        "id": "Zc_M31CIucAE"
      },
      "source": [
        "Using SVD decomposition, select the first 3 vectors in the matrix U and perform the same KMeans clustering used above on them. What do you observe? Did it work? If so explain why, if not, explain not not."
      ]
    },
    {
      "cell_type": "markdown",
      "metadata": {
        "id": "SCCDwv1tucAF"
      },
      "source": [
        "## Solution"
      ]
    },
    {
      "cell_type": "code",
      "execution_count": null,
      "metadata": {
        "id": "ESwrnTqGucAF"
      },
      "outputs": [],
      "source": [
        "u, sigma, v = svd(M)\n"
      ]
    },
    {
      "cell_type": "code",
      "source": [
        "# uu = np.dot(u[:, :3], v[:3, :3])\n",
        "# uuu = np.dot(uu,v[:3, :])\n",
        "y_pred_new = KMeans(n_clusters=3, random_state=seed).fit_predict(u[:, :3])\n",
        "show_data_results(X, 2, y_pred_new)"
      ],
      "metadata": {
        "colab": {
          "base_uri": "https://localhost:8080/",
          "height": 213
        },
        "id": "iUiojXDe8eel",
        "outputId": "2e7cd6c0-fe87-4cc1-89f7-cbfb2ab69b52"
      },
      "execution_count": null,
      "outputs": [
        {
          "output_type": "display_data",
          "data": {
            "text/plain": [
              "<Figure size 720x216 with 2 Axes>"
            ],
            "image/png": "[encoded data removed]"
          },
          "metadata": {}
        }
      ]
    },
    {
      "cell_type": "markdown",
      "metadata": {
        "id": "AdUsMmRBucAF"
      },
      "source": [
        "## Q.7. "
      ]
    },
    {
      "cell_type": "markdown",
      "metadata": {
        "id": "1K5epum6ucAF"
      },
      "source": [
        "Now lets think of the Adjacency obtained above as the transition Matrix in of a Markov Chain.To do so, A needs to be a proper stochastic matrix which means that the sum of the element in each column must add up to 1. Write a function that takes in the matrix M and returns M_stachastic, the stochastic version of M; compute the stochastic matrix"
      ]
    },
    {
      "cell_type": "markdown",
      "metadata": {
        "id": "glgJU3mXucAF"
      },
      "source": [
        "## Solution"
      ]
    },
    {
      "cell_type": "code",
      "execution_count": null,
      "metadata": {
        "id": "Aw616b04ucAG"
      },
      "outputs": [],
      "source": [
        "def stochastic_matrix_converter(M):\n",
        "    # fill in your code here\n",
        "    # degree_matrix = ?\n",
        "    M_stoch = M/np.sum(M, axis = 0)\n",
        "    return M_stoch"
      ]
    },
    {
      "cell_type": "code",
      "source": [
        "M_stoch = stochastic_matrix_converter(M)\n",
        "uu, ss, vv = svd(M_stoch)"
      ],
      "metadata": {
        "id": "4MKr2IiVEgph"
      },
      "execution_count": null,
      "outputs": []
    },
    {
      "cell_type": "code",
      "source": [
        "y_pred_newnew = KMeans(n_clusters=3, random_state=seed).fit_predict(uu[:, :3])\n",
        "show_data_results(X, 2, y_pred_newnew)"
      ],
      "metadata": {
        "colab": {
          "base_uri": "https://localhost:8080/",
          "height": 213
        },
        "id": "QPOaoe1CErvu",
        "outputId": "4e06575d-002d-4cb3-f2dc-ab2680db4d77"
      },
      "execution_count": null,
      "outputs": [
        {
          "output_type": "display_data",
          "data": {
            "text/plain": [
              "<Figure size 720x216 with 2 Axes>"
            ],
            "image/png": "[encoded data removed]"
          },
          "metadata": {}
        }
      ]
    },
    {
      "cell_type": "markdown",
      "metadata": {
        "id": "4sCi55KVucAG"
      },
      "source": [
        "## Q.8"
      ]
    },
    {
      "cell_type": "markdown",
      "metadata": {
        "id": "G5pCXyXhucAG"
      },
      "source": [
        "Now, let’s investigate how could we have made the matrix M work directly in our original interpretation. To do this, normalize those 3 vectors first before performing the clustering. "
      ]
    },
    {
      "cell_type": "markdown",
      "metadata": {
        "id": "7YQGejGyucAG"
      },
      "source": [
        "## Solution"
      ]
    },
    {
      "cell_type": "code",
      "execution_count": null,
      "metadata": {
        "id": "nakrCVZ4ucAH",
        "colab": {
          "base_uri": "https://localhost:8080/",
          "height": 462
        },
        "outputId": "699b9b5a-dd58-4159-ec47-f2c1ac39701f"
      },
      "outputs": [
        {
          "output_type": "stream",
          "name": "stdout",
          "text": [
            "[[-8.60332439e-01  5.09729540e-01 -1.97227937e-03]\n",
            " [-7.84568016e-01  6.20020774e-01 -5.22191981e-03]\n",
            " [-5.69686510e-01 -8.21862011e-01  3.39322710e-04]\n",
            " ...\n",
            " [-5.70337365e-01 -8.21410479e-01  3.37434830e-04]\n",
            " [-5.68567878e-01 -8.22636281e-01  3.42579505e-04]\n",
            " [-8.55719905e-01  5.17436407e-01 -1.73460290e-03]]\n",
            "[[-2.21104554e-02  1.30999969e-02 -5.06873776e-05]\n",
            " [-1.78270390e-02  1.40881788e-02 -1.18653024e-04]\n",
            " [-2.76312803e-02 -3.98624492e-02  1.64580357e-05]\n",
            " ...\n",
            " [-2.60800421e-02 -3.75609617e-02  1.54300158e-05]\n",
            " [-1.60209456e-02 -2.31800135e-02  9.65310884e-06]\n",
            " [-2.57423535e-02  1.55658771e-02 -5.21815150e-05]]\n"
          ]
        },
        {
          "output_type": "display_data",
          "data": {
            "text/plain": [
              "<Figure size 720x216 with 2 Axes>"
            ],
            "image/png": "[encoded data removed]"
          },
          "metadata": {}
        }
      ],
      "source": [
        "#normalize columns of matrix\n",
        "normalized_feature = normalize(u[:, :3], axis=1)\n",
        "print(normalized_feature)\n",
        "print(u[:,:3])\n",
        "y_pred_normalized = KMeans(n_clusters=3, random_state=seed).fit_predict(normalized_feature)\n",
        "show_data_results(X, 2, y_pred_normalized)"
      ]
    }
  ],
  "metadata": {
    "kernelspec": {
      "display_name": "cs280",
      "language": "python",
      "name": "cs280"
    },
    "language_info": {
      "codemirror_mode": {
        "name": "ipython",
        "version": 3
      },
      "file_extension": ".py",
      "mimetype": "text/x-python",
      "name": "python",
      "nbconvert_exporter": "python",
      "pygments_lexer": "ipython3",
      "version": "3.8.12"
    },
    "colab": {
      "provenance": [],
      "collapsed_sections": []
    }
  },
  "nbformat": 4,
  "nbformat_minor": 0
}