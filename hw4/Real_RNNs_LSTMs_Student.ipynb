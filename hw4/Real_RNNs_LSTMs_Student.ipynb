{
  "cells": [
    {
      "cell_type": "markdown",
      "metadata": {
        "id": "yIqzcT6vyUJI"
      },
      "source": [
        "# Introduction\n",
        "In this assignment, you are going to train a neural network to **predict a likely language of origin for a last name**.\n",
        "\n",
        "\n",
        "- Learn to preprocess raw text so it can be fed into an RNN and LSTM;\n",
        "- Make use of relevant libraries in Pytorch;\n",
        "- Train, evaluate, and generate predictions for unseen data.\n",
        "\n",
        "Disclaimer: we’re using this dataset for academic purposes only. The model you train should not be used to draw any real-world conclusions about people’s names.\n",
        "\n"
      ]
    },
    {
      "cell_type": "markdown",
      "metadata": {
        "id": "LL29FMhfyUJv"
      },
      "source": [
        "# Library imports"
      ]
    },
    {
      "cell_type": "markdown",
      "metadata": {
        "id": "5OXaa4g1yUJx"
      },
      "source": [
        "Before starting, make sure you have all these libraries."
      ]
    },
    {
      "cell_type": "code",
      "execution_count": 44,
      "metadata": {
        "colab": {
          "base_uri": "https://localhost:8080/"
        },
        "id": "C8AUXmnWZ-bO",
        "outputId": "dbcb4c8d-b019-43a5-ad99-aafe79782480"
      },
      "outputs": [],
      "source": [
        "# from google.colab import drive\n",
        "# drive.mount('/content/drive')"
      ]
    },
    {
      "cell_type": "code",
      "execution_count": 45,
      "metadata": {
        "colab": {
          "base_uri": "https://localhost:8080/"
        },
        "id": "KPyOyhNKZ-n9",
        "outputId": "1c1ac796-635d-4ed5-d668-10e5297b012a"
      },
      "outputs": [
        {
          "name": "stdout",
          "output_type": "stream",
          "text": [
            "[Errno 2] No such file or directory: 'drive/MyDrive/hw3'\n",
            "/home/cleverctz/berkeley/cs182_deeplearning/hw4/hw4\n"
          ]
        }
      ],
      "source": [
        "# TODO: cd into the correct drive folder! Example:\n",
        "%cd drive/MyDrive/hw3"
      ]
    },
    {
      "cell_type": "code",
      "execution_count": 46,
      "metadata": {
        "id": "-G1WS5wsd2r4"
      },
      "outputs": [],
      "source": [
        "root_folder = \"\"\n",
        "import os\n",
        "import sys\n",
        "sys.path.append(root_folder)\n",
        "import torch as th\n",
        "from torch import nn\n",
        "import torch.optim as optim\n",
        "import random\n",
        "import numpy as np\n",
        "import matplotlib.pyplot as plt\n",
        "device = th.device(\"cuda\" if th.cuda.is_available() else \"cpu\")\n",
        "from sklearn.utils import shuffle"
      ]
    },
    {
      "cell_type": "code",
      "execution_count": 47,
      "metadata": {
        "id": "N1twBPSLyUJz"
      },
      "outputs": [
        {
          "name": "stdout",
          "output_type": "stream",
          "text": [
            "The autoreload extension is already loaded. To reload it, use:\n",
            "  %reload_ext autoreload\n"
          ]
        }
      ],
      "source": [
        "%load_ext autoreload\n",
        "%autoreload 2"
      ]
    },
    {
      "cell_type": "markdown",
      "metadata": {
        "id": "A3SB0UHhvmYK"
      },
      "source": [
        "# Part A. Creating the Network\n",
        "The problem is predicting the $$ P ( class | c_1, c_2, c_3, ..., c_i), \\forall i \\in name $$\n",
        "\n",
        "where c is each character in a name. The advantage of building this basic character-level NLP model is that you can see how preprocessing works at a low level. A character-level network reads words as a series of characters - outputting a prediction and “hidden state” at each step, feeding its previous hidden state into each next step. We take the final prediction to be the output, i.e. which class the word belongs to.\n",
        "\n",
        "All models in PyTorch inherit from the subclass nn.Module. Here, you will intialize a custom model called RecurrentClassifier to run [nn.RNN](https://pytorch.org/docs/stable/generated/torch.nn.RNN.html) or [nn.LSTM](https://pytorch.org/docs/stable/generated/torch.nn.LSTM.html), among other nn functions you can find in the Pytorch docs, and define its forward function. Fill in the TODO's below. **Note: set batch_first in the arguments to the above to True.**"
      ]
    },
    {
      "cell_type": "code",
      "execution_count": 48,
      "metadata": {
        "id": "Db5S9F-ovksV"
      },
      "outputs": [],
      "source": [
        "class RecurrentClassifier(nn.Module):\n",
        "    def __init__(self, vocab_size, rnn_size, n_categories, model_type, num_layers=1, dropout=0):\n",
        "        super().__init__()\n",
        "        self.model_type = model_type\n",
        "        # An embedding layer that will map our vocab into a vector of length rnn_size. \n",
        "        self.embedding = lambda x: nn.functional.one_hot(x, vocab_size).float()\n",
        "\n",
        "        # Create an LSTM layer of rnn_size size. Use any features you wish.\n",
        "        # We will be using batch_first convention\n",
        "        if model_type == 'lstm':\n",
        "            self.lstm = nn.LSTM(vocab_size, rnn_size, num_layers, batch_first=True)\n",
        "        elif model_type == 'rnn':\n",
        "            self.rnn = nn.RNN(vocab_size, rnn_size, num_layers, batch_first=True)\n",
        "        # RNN/LSTM do not add dropout to the last hidden output, \n",
        "        # uncomment the line below if you wish.\n",
        "        # self.dropout = nn.Dropout(p=dropout)\n",
        "\n",
        "        # Final linear layer that projects the outputs of the RNN/LSTM into\n",
        "        # logits of size n_categories\n",
        "        self.output = nn.Linear(rnn_size, n_categories)\n",
        "        # self.softmax = nn.LogSoftmax(dim=1)\n",
        "\n",
        "    def forward(self,x):\n",
        "        '''\n",
        "        Run input data x through each relevant layer depending on self.model_type,\n",
        "        and output the final logits.\n",
        "        '''\n",
        "        embedded = self.embedding(x)# initialize\n",
        "        if self.model_type =='lstm':\n",
        "            after_rnn, (h_last, c_last) = self.lstm(embedded)\n",
        "            out_put = self.output(after_rnn)\n",
        "\n",
        "        elif self.model_type == 'rnn':\n",
        "            after_rnn, all_h = self.rnn(embedded)\n",
        "            out_put = self.output(after_rnn)\n",
        "        \n",
        "        # out = self.softmax(out_put)\n",
        "        return out_put\n"
      ]
    },
    {
      "cell_type": "markdown",
      "metadata": {
        "id": "bfs_9-e4qRUN"
      },
      "source": [
        "# Part B: Preprocessing the dataset\n",
        "The [dataset](https://pytorch.org/tutorials/intermediate/char_rnn_classification_tutorial.html) contains a few thousand last names from 18 languages of origin. Included in the data/names directory are 18 text files named as \"[Language].txt\". Each file contains a bunch of names, one name per line, mostly romanized (but we still need to convert from Unicode to ASCII).\n",
        "\n",
        "We'll end up with a dictionary of lists of names per language, {language: [names ...]}. \n",
        "\n",
        "Fill in the TODO's in the following cells.\n"
      ]
    },
    {
      "cell_type": "code",
      "execution_count": 49,
      "metadata": {
        "colab": {
          "base_uri": "https://localhost:8080/"
        },
        "id": "Spx_3RDXrMSO",
        "outputId": "cf6cec70-e317-46a1-e57b-6bcb316b03d3"
      },
      "outputs": [
        {
          "name": "stdout",
          "output_type": "stream",
          "text": [
            "['data/names/Korean.txt', 'data/names/Dutch.txt', 'data/names/Chinese.txt', 'data/names/Russian.txt', 'data/names/Irish.txt', 'data/names/English.txt', 'data/names/Vietnamese.txt', 'data/names/Portuguese.txt', 'data/names/French.txt', 'data/names/Italian.txt', 'data/names/Greek.txt', 'data/names/Scottish.txt', 'data/names/Arabic.txt', 'data/names/German.txt', 'data/names/Czech.txt', 'data/names/Japanese.txt', 'data/names/Polish.txt', 'data/names/Spanish.txt']\n",
            "Slusarski\n",
            "['Abandonato', 'Abatangelo', 'Abatantuono', 'Abate', 'Abategiovanni']\n"
          ]
        }
      ],
      "source": [
        "from __future__ import unicode_literals, print_function, division\n",
        "from io import open\n",
        "import glob\n",
        "import os\n",
        "\n",
        "def findFiles(path): return glob.glob(path)\n",
        "\n",
        "print(findFiles('data/names/*.txt'))\n",
        "\n",
        "import unicodedata\n",
        "import string\n",
        "\n",
        "all_letters = string.ascii_letters + \" .,;'\"\n",
        "n_letters = len(all_letters)\n",
        "\n",
        "# Turn a Unicode string to plain ASCII, thanks to https://stackoverflow.com/a/518232/2809427\n",
        "def unicodeToAscii(s):\n",
        "    return ''.join(\n",
        "        c for c in unicodedata.normalize('NFD', s)\n",
        "        if unicodedata.category(c) != 'Mn'\n",
        "        and c in all_letters\n",
        "    )\n",
        "\n",
        "print(unicodeToAscii('Ślusàrski'))\n",
        "\n",
        "# Build the category_lines dictionary, a list of names per language\n",
        "category_lines = {}\n",
        "all_categories = []\n",
        "\n",
        "# Read a file and split into lines\n",
        "def readLines(filename):\n",
        "    lines = open(filename, encoding='utf-8').read().strip().split('\\n')\n",
        "    return [unicodeToAscii(line) for line in lines]\n",
        "\n",
        "for filename in findFiles('data/names/*.txt'):\n",
        "    category = os.path.splitext(os.path.basename(filename))[0]\n",
        "    all_categories.append(category)\n",
        "    lines = readLines(filename)\n",
        "    category_lines[category] = lines\n",
        "\n",
        "n_categories = len(all_categories)\n",
        "print(category_lines['Italian'][:5])"
      ]
    },
    {
      "cell_type": "code",
      "execution_count": 50,
      "metadata": {
        "colab": {
          "base_uri": "https://localhost:8080/"
        },
        "id": "3Vl_70ZxWX0r",
        "outputId": "76369e65-dc82-483b-8865-04eb9ece6a56"
      },
      "outputs": [],
      "source": [
        "def letterToIndex(letter):\n",
        "    '''\n",
        "    Find letter index from all_letters, e.g. \"a\" returns 0\n",
        "    '''\n",
        "    # TODO\n",
        "    asc = ord(letter)\n",
        "    if asc >= ord('a') and asc<= ord('z'):\n",
        "        value = asc - ord('a')\n",
        "    if asc >= ord('A') and asc<= ord('Z'):\n",
        "        value = asc - ord('A') + 26\n",
        "    # else:\n",
        "    #     value = asc - ord('A')\n",
        "    if letter == ' ':\n",
        "        value = 52\n",
        "    if letter == '.':\n",
        "        value = 53\n",
        "    if letter == ',':\n",
        "        value = 54\n",
        "    if letter == ';':\n",
        "        value = 55\n",
        "    if letter == \"'\":\n",
        "        value = 56\n",
        "    return value"
      ]
    },
    {
      "cell_type": "code",
      "execution_count": 51,
      "metadata": {
        "colab": {
          "base_uri": "https://localhost:8080/",
          "height": 169
        },
        "id": "bpYcTMmA0Egj",
        "outputId": "cc2085eb-cceb-4f45-9e42-a257415d6fe9"
      },
      "outputs": [],
      "source": [
        "# For labels, we must have numbers instead of a string. These dictionaries convert\n",
        "# between these two ways of representing the labels.\n",
        "num_to_cat = dict(enumerate(category_lines.keys()))\n",
        "cat_to_num = dict((v,k) for k,v in num_to_cat.items())\n",
        "pad = 57 # this is the next available character \n",
        "vocab_size = 58 # number of characters used in total\n",
        "\n",
        "def build_data(category_lines):\n",
        "  '''\n",
        "  category_lines: a dictionary of lists of names per language, {language: [names ...]}. \n",
        "\n",
        "  We want to translate our dictionary into a dataset that has one entry per name. \n",
        "  Each datapoint is a 3-tuple consisting of: \n",
        "  - x: a length-19 array with each character in the name as an element,\n",
        "   padded with zeros at the end if the name is less than 19 characters.\n",
        "  - y: the numerical representation of the language the name corresponds to.\n",
        "  - index: the index where the padding begins\n",
        "  '''\n",
        "  data = []\n",
        "  for cat in category_lines:\n",
        "    for name in category_lines[cat]:\n",
        "      token = np.ones(19) * pad\n",
        "      numerized = np.array([letterToIndex(l) for l in name])\n",
        "      n = len(numerized)\n",
        "      token[:n] = numerized\n",
        "      data.append((token, cat_to_num[cat], n-1))\n",
        "  return data"
      ]
    },
    {
      "cell_type": "code",
      "execution_count": 52,
      "metadata": {
        "id": "cd8gOGTD_Sgw"
      },
      "outputs": [],
      "source": [
        "data = build_data(category_lines)\n",
        "# TODO: shuffle the dataset, then do train test split with 80% as train set.\n",
        "random.shuffle(data)\n",
        "train_data = data[0:int(.8*len(data))]\n",
        "test_data = data[int(.8*len(data)):]"
      ]
    },
    {
      "cell_type": "code",
      "execution_count": 53,
      "metadata": {},
      "outputs": [],
      "source": [
        "def one_hot_encoding(num):\n",
        "    ans = np.zeros(n_categories)\n",
        "    ans[num] = 1.\n",
        "    return ans"
      ]
    },
    {
      "cell_type": "markdown",
      "metadata": {
        "id": "qz7ixZGKyUKT"
      },
      "source": [
        "# Part C: Training the models"
      ]
    },
    {
      "cell_type": "markdown",
      "metadata": {
        "id": "9sDUBkpnyUKU"
      },
      "source": [
        "Fill in the TODO's below. \n",
        "\n",
        "Training will be faster if you use the Colab GPU. If it's not already enabled, do so with Runtime -> Change runtime type.\n",
        "\n",
        "Look at the training loss curves of RNN vs. LSTM. Which one does better? "
      ]
    },
    {
      "cell_type": "code",
      "execution_count": 54,
      "metadata": {
        "id": "FTBKTehd4A9t"
      },
      "outputs": [],
      "source": [
        "def build_batch(dataset, indices):\n",
        "    '''\n",
        "    Helper function for creating a batch during training. Builds a batch \n",
        "    of source and target elements from the dataset. See the next cell for \n",
        "    when and how it's used. \n",
        "    \n",
        "    Arguments:\n",
        "        dataset: List[db_element] -- A list of datapoints.\n",
        "        Again, each datapoint is a 3-tuple consisting of: \n",
        "          - x: a length-19 array with each character in the name as an element,\n",
        "          padded with zeros at the end if the name is less than 19 characters.\n",
        "          - y: the numerical representation of the language the name corresponds to.\n",
        "          - index: the index where the padding begins\n",
        "\n",
        "        indices: List[int] -- A list of indices of the dataset to sample\n",
        "    Returns:\n",
        "        batch_input: np.array[np.array[int]] -- List of tensorized names\n",
        "        batch_target: np.array[int] -- List of numerical categories\n",
        "        batch_indices: np.array[int] -- List of starting indices of padding\n",
        "    '''\n",
        "    # Recover what the entries for the batch are\n",
        "    one_hot = lambda x: nn.functional.one_hot(x, n_categories)\n",
        "    batch = [dataset[i] for i in indices]\n",
        "    batch_input = np.array([batch[i][0] for i in range(len(batch))])\n",
        "    batch_target = np.array([batch[i][1] for i in range(len(batch))])\n",
        "    batch_indices = np.array([batch[i][2] for i in range(len(batch))])\n",
        "    # TODO\n",
        "    # batch_target = np.array([one_hot_encoding(batch_target[i]) for i in range(len(batch_target))])\n",
        "    # print(batch_target)\n",
        "    return batch_input, batch_target, batch_indices"
      ]
    },
    {
      "cell_type": "code",
      "execution_count": 55,
      "metadata": {
        "colab": {
          "base_uri": "https://localhost:8080/"
        },
        "id": "b01AZj0RyUKW",
        "outputId": "08740ecb-f4fe-4933-c6b4-2d0957784468"
      },
      "outputs": [
        {
          "name": "stdout",
          "output_type": "stream",
          "text": [
            "cuda\n"
          ]
        }
      ],
      "source": [
        "criterion = nn.CrossEntropyLoss()# TODO: use Pytorch's cross-entropy loss.\n",
        "def loss_fn(pred, target, index):\n",
        "    '''\n",
        "    Arguments:\n",
        "      pred: tensor of shape (batch_size, 19, vocab_size), representing predictions\n",
        "      for all 19 timesteps, one character per timestep\n",
        "      target: labels of length batch_size\n",
        "      index: indices of length batch_size\n",
        "    Returns:\n",
        "      Loss averaged acrosss the batch. The criterion already handles the averaging.\n",
        "    '''\n",
        "    # we just want to compute loss based on the prediction's last token\n",
        "    pred_valid = pred[np.arange(len(pred)),index,:] \n",
        "    loss_tensor = criterion(pred_valid, target)# TODO: use criterion\n",
        "    return loss_tensor\n",
        "\n",
        "# The build_batch function outputs numpy, but our model is built in pytorch,\n",
        "# so we need to convert numpy to pytorch with the correct types. \n",
        "batch_to_torch = lambda b_in,b_target,b_mask: (th.tensor(b_in).long(),\n",
        "                                               th.tensor(b_target).long(), \n",
        "                                               th.tensor(b_mask).long())\n",
        "\n",
        "# Model parameters. You can tune this for better performance. \n",
        "hidden_size = 512\n",
        "num_layers = 2\n",
        "dropout = .3\n",
        "optimizer_class = optim.Adam\n",
        "lr = 1e-3\n",
        "epochs = 10\n",
        "batch_size = 128\n",
        "\n",
        "device = th.device(\"cuda\" if th.cuda.is_available() else \"cpu\")\n",
        "print(device)\n",
        "list_to_device = lambda th_obj: [tensor.to(device) for tensor in th_obj]"
      ]
    },
    {
      "cell_type": "code",
      "execution_count": 56,
      "metadata": {
        "id": "fjIAKqbvg9ER"
      },
      "outputs": [],
      "source": [
        "# invoke the model class you defined earlier. \n",
        "lstm_model = RecurrentClassifier(vocab_size = vocab_size, rnn_size = hidden_size,model_type='lstm', n_categories = n_categories, num_layers=num_layers)\n",
        "lstm_optimizer = optimizer_class(lstm_model.parameters(), lr=lr)\n",
        "rnn_model = RecurrentClassifier(vocab_size = vocab_size, rnn_size = hidden_size,model_type='rnn', n_categories = n_categories, num_layers=num_layers)\n",
        "rnn_optimizer = optimizer_class(rnn_model.parameters(), lr=lr)"
      ]
    },
    {
      "cell_type": "code",
      "execution_count": 57,
      "metadata": {
        "id": "sVDHLiOmyUKX",
        "scrolled": false
      },
      "outputs": [],
      "source": [
        "def train(model, optimizer, epochs, model_id='test_1'):\n",
        "  '''\n",
        "  Train and save a model.\n",
        "\n",
        "  Make sure to save your latest model with a UNIQUE model name if you need to\n",
        "  access it later! \n",
        "  '''\n",
        "  model.train()\n",
        "  losses = []\n",
        "  accuracies = []\n",
        "  from tqdm import tqdm\n",
        "  for epoch in range(epochs):\n",
        "      indices = np.random.permutation(range(len(train_data)))\n",
        "      t = tqdm(range(0,(len(train_data)//batch_size)+1))\n",
        "      for i in t:\n",
        "          batch = build_batch(train_data, indices[i*batch_size:(i+1)*batch_size])# TODO: make a batch from training data, depending on iteration i and batch_size\n",
        "          (batch_input, batch_target, batch_indices) = batch_to_torch(*batch)\n",
        "          (batch_input, batch_target, batch_indices) = list_to_device((batch_input, batch_target, batch_indices))\n",
        "          model.to(device)\n",
        "        #   print(batch_target)\n",
        "          prediction = model(batch_input)# TODO\n",
        "          loss = loss_fn(prediction, batch_target, batch_indices)# TODO\n",
        "          losses.append(loss.item())\n",
        "          pred_valid = prediction[np.arange(len(prediction)),batch_indices,:]\n",
        "          accuracy = th.mean(th.eq(pred_valid.argmax(dim=1,keepdim=False),batch_target).float())\n",
        "          accuracies.append(accuracy.item())\n",
        "\n",
        "          optimizer.zero_grad()\n",
        "          loss.backward()\n",
        "          optimizer.step()\n",
        "          if i % 10 == 0:\n",
        "              t.set_description(f\"Epoch: {epoch} Iteration: {i} Loss: {np.mean(losses[-10:])} Accuracy: {np.mean(accuracies[-10:])}\")\n",
        "      os.makedirs(root_folder+'models/part1',exist_ok=True)        \n",
        "      save_dict = dict(\n",
        "          kwargs = dict(\n",
        "              vocab_size=vocab_size,\n",
        "              rnn_size=hidden_size,\n",
        "              n_categories=n_categories,\n",
        "              num_layers=num_layers,\n",
        "              dropout=dropout\n",
        "          ),\n",
        "          model_state_dict = model.state_dict(),\n",
        "          notes = \"\",\n",
        "          optimizer_class = optimizer_class,\n",
        "          lr = lr,\n",
        "          epochs = epochs,\n",
        "          batch_size = batch_size,\n",
        "      )\n",
        "      th.save(save_dict,root_folder+f'models/part1/model_{model_id}.pt')\n",
        "  return losses"
      ]
    },
    {
      "cell_type": "code",
      "execution_count": 58,
      "metadata": {
        "colab": {
          "base_uri": "https://localhost:8080/"
        },
        "id": "h3Ruq-VrY-TA",
        "outputId": "d01f8be4-c952-4c63-f431-257243e980c5"
      },
      "outputs": [
        {
          "name": "stderr",
          "output_type": "stream",
          "text": [
            "Epoch: 0 Iteration: 120 Loss: 1.373689556121826 Accuracy: 0.61328125: 100%|██████████| 126/126 [00:02<00:00, 54.98it/s]\n",
            "Epoch: 1 Iteration: 120 Loss: 1.0313877642154694 Accuracy: 0.7078125: 100%|██████████| 126/126 [00:02<00:00, 57.05it/s]     \n",
            "Epoch: 2 Iteration: 120 Loss: 0.8973000526428223 Accuracy: 0.72265625: 100%|██████████| 126/126 [00:02<00:00, 57.12it/s]    \n",
            "Epoch: 3 Iteration: 120 Loss: 0.8477613925933838 Accuracy: 0.7484375: 100%|██████████| 126/126 [00:02<00:00, 56.58it/s]     \n",
            "Epoch: 4 Iteration: 120 Loss: 0.7533215999603271 Accuracy: 0.77578125: 100%|██████████| 126/126 [00:02<00:00, 56.61it/s]    \n",
            "Epoch: 5 Iteration: 120 Loss: 0.6824279189109802 Accuracy: 0.7828125: 100%|██████████| 126/126 [00:02<00:00, 56.40it/s]     \n",
            "Epoch: 6 Iteration: 120 Loss: 0.6083314299583436 Accuracy: 0.81484375: 100%|██████████| 126/126 [00:02<00:00, 55.51it/s]    \n",
            "Epoch: 7 Iteration: 120 Loss: 0.525151914358139 Accuracy: 0.82578125: 100%|██████████| 126/126 [00:02<00:00, 55.55it/s]     \n",
            "Epoch: 8 Iteration: 120 Loss: 0.4847143769264221 Accuracy: 0.8453125: 100%|██████████| 126/126 [00:02<00:00, 55.95it/s]     \n",
            "Epoch: 9 Iteration: 120 Loss: 0.41157802641391755 Accuracy: 0.85234375: 100%|██████████| 126/126 [00:02<00:00, 55.39it/s]   \n"
          ]
        }
      ],
      "source": [
        "lstm_losses = train(lstm_model, lstm_optimizer, epochs, 'test_lstm')"
      ]
    },
    {
      "cell_type": "code",
      "execution_count": 59,
      "metadata": {
        "colab": {
          "base_uri": "https://localhost:8080/"
        },
        "id": "xzufeCQ3Pfe6",
        "outputId": "b70d8ca6-27be-42e8-da74-2869781125dc"
      },
      "outputs": [
        {
          "name": "stderr",
          "output_type": "stream",
          "text": [
            "Epoch: 0 Iteration: 120 Loss: 1.0700339615345 Accuracy: 0.69453125: 100%|██████████| 126/126 [00:01<00:00, 122.96it/s]   \n",
            "Epoch: 1 Iteration: 120 Loss: 0.9783098995685577 Accuracy: 0.70546875: 100%|██████████| 126/126 [00:01<00:00, 125.53it/s]\n",
            "Epoch: 2 Iteration: 120 Loss: 0.8926216721534729 Accuracy: 0.73203125: 100%|██████████| 126/126 [00:01<00:00, 123.08it/s]\n",
            "Epoch: 3 Iteration: 120 Loss: 0.8345666766166687 Accuracy: 0.74140625: 100%|██████████| 126/126 [00:01<00:00, 120.72it/s]\n",
            "Epoch: 4 Iteration: 120 Loss: 0.713063657283783 Accuracy: 0.7703125: 100%|██████████| 126/126 [00:01<00:00, 124.18it/s]  \n",
            "Epoch: 5 Iteration: 120 Loss: 0.6122567117214203 Accuracy: 0.81328125: 100%|██████████| 126/126 [00:01<00:00, 124.00it/s]\n",
            "Epoch: 6 Iteration: 120 Loss: 0.6181397318840027 Accuracy: 0.81015625: 100%|██████████| 126/126 [00:01<00:00, 122.41it/s]\n",
            "Epoch: 7 Iteration: 120 Loss: 0.6249564826488495 Accuracy: 0.80546875: 100%|██████████| 126/126 [00:00<00:00, 126.83it/s]\n",
            "Epoch: 8 Iteration: 120 Loss: 0.5247737973928451 Accuracy: 0.83203125: 100%|██████████| 126/126 [00:00<00:00, 127.91it/s]\n",
            "Epoch: 9 Iteration: 120 Loss: 0.4839837491512299 Accuracy: 0.83515625: 100%|██████████| 126/126 [00:01<00:00, 123.13it/s]\n"
          ]
        }
      ],
      "source": [
        "rnn_losses = train(rnn_model, rnn_optimizer, epochs, 'test_rnn')"
      ]
    },
    {
      "cell_type": "code",
      "execution_count": 60,
      "metadata": {
        "id": "m3gJsonShOxW"
      },
      "outputs": [
        {
          "data": {
            "text/plain": [
              "<matplotlib.legend.Legend at 0x7f101bc0a130>"
            ]
          },
          "execution_count": 60,
          "metadata": {},
          "output_type": "execute_result"
        },
        {
          "data": {
            "image/png": "[encoded data removed]",
            "text/plain": [
              "<Figure size 432x288 with 1 Axes>"
            ]
          },
          "metadata": {
            "needs_background": "light"
          },
          "output_type": "display_data"
        }
      ],
      "source": [
        "plt.title(\"RNN vs. LSTM train losses over earlier timesteps\")\n",
        "plt.plot(lstm_losses,label=\"LSTM\")\n",
        "plt.plot(rnn_losses, label=\"RNN\")\n",
        "plt.xlim([0,800])\n",
        "plt.legend()"
      ]
    },
    {
      "cell_type": "markdown",
      "metadata": {
        "id": "fhaj6XIdyUKZ"
      },
      "source": [
        "# Part D: Using the LSTM model"
      ]
    },
    {
      "cell_type": "markdown",
      "metadata": {
        "id": "EnR8ma3cyUKb"
      },
      "source": [
        "## (1) Evaluation loss\n",
        "\n",
        "Load the model you trained, and obtain a test loss. Your objective is to reach a **LSTM validation loss <= 0.6**\n",
        "You should not need more than 10 epochs to attain the threshold. More passes over the data can however give you a better model. Other options include changing your optimizers, tuning your learning_rate, and using the last dropout layer.\n",
        "Fill in the TODO's."
      ]
    },
    {
      "cell_type": "code",
      "execution_count": 86,
      "metadata": {
        "colab": {
          "base_uri": "https://localhost:8080/"
        },
        "id": "zkL164RCyUKc",
        "outputId": "e47d0424-18ed-499b-c584-1414dec1a0bf"
      },
      "outputs": [
        {
          "data": {
            "text/plain": [
              "RecurrentClassifier(\n",
              "  (lstm): LSTM(58, 512, num_layers=2, batch_first=True)\n",
              "  (output): Linear(in_features=512, out_features=18, bias=True)\n",
              ")"
            ]
          },
          "execution_count": 86,
          "metadata": {},
          "output_type": "execute_result"
        }
      ],
      "source": [
        "model_id = \"test_lstm\" # Make sure this id matches the id you assigned the LSTM model\n",
        "save_dict = th.load(root_folder+'models/part1/'+f\"model_{model_id}.pt\",)\n",
        "model = RecurrentClassifier(**save_dict['kwargs'],model_type='lstm')\n",
        "model.load_state_dict(save_dict['model_state_dict'])\n",
        "model.eval()"
      ]
    },
    {
      "cell_type": "code",
      "execution_count": 87,
      "metadata": {
        "colab": {
          "base_uri": "https://localhost:8080/",
          "height": 347
        },
        "id": "o0B71owvyUKe",
        "outputId": "37b37584-41c8-4401-b46a-2ac32091eb9f"
      },
      "outputs": [
        {
          "name": "stdout",
          "output_type": "stream",
          "text": [
            "Evaluation set loss: 0.5812450051307678\n"
          ]
        }
      ],
      "source": [
        "# Make sure your validation loss is below 0.6 and that you didn't train using\n",
        "# the test set.\n",
        "indices = np.random.permutation(range(len(test_data)))\n",
        "batch = build_batch(test_data, indices)# TODO: put entire test set into a batch\n",
        "(batch_input, batch_target, batch_indices) = batch_to_torch(*batch)\n",
        "prediction = model(batch_input)# TODO\n",
        "loss = loss_fn(prediction, batch_target, batch_indices)\n",
        "print(\"Evaluation set loss:\", loss.item())"
      ]
    },
    {
      "cell_type": "code",
      "execution_count": 63,
      "metadata": {
        "id": "uafuszCHyUKh"
      },
      "outputs": [
        {
          "data": {
            "text/plain": [
              "RecurrentClassifier(\n",
              "  (lstm): LSTM(58, 512, num_layers=2, batch_first=True)\n",
              "  (output): Linear(in_features=512, out_features=18, bias=True)\n",
              ")"
            ]
          },
          "execution_count": 63,
          "metadata": {},
          "output_type": "execute_result"
        }
      ],
      "source": [
        "model.cpu()"
      ]
    },
    {
      "cell_type": "markdown",
      "metadata": {
        "id": "kpn8XlLXyUKn"
      },
      "source": [
        "## (2) Try some other names!\n",
        "This time, obtain the output_logits from our model instead of the loss to predict on a name that you specify. Fill in the TODO's."
      ]
    },
    {
      "cell_type": "code",
      "execution_count": 74,
      "metadata": {
        "id": "GCYvwLw1yUKp"
      },
      "outputs": [],
      "source": [
        "def classify_name(name, model):\n",
        "    '''\n",
        "    Numerize the name and return the most likely number representation of the \n",
        "    predicted class.\n",
        "    '''\n",
        "    token = np.ones(19) * pad\n",
        "    numerized = np.array([letterToIndex(l) for l in name])\n",
        "    n = len(numerized)\n",
        "    token[:n] = numerized\n",
        "    logits = model(th.from_numpy(token.reshape(1,-1)).long())# TODO\n",
        "    logits_np = logits.detach().cpu().numpy()\n",
        "    return np.argmax(logits_np[0, n])# TODO"
      ]
    },
    {
      "cell_type": "code",
      "execution_count": 82,
      "metadata": {
        "colab": {
          "base_uri": "https://localhost:8080/"
        },
        "id": "xVKeMmSAyUKq",
        "outputId": "3d2ef13e-154d-479b-e416-5c892143c626",
        "scrolled": true
      },
      "outputs": [
        {
          "name": "stdout",
          "output_type": "stream",
          "text": [
            "===================\n",
            "Predicting origin language for name: Sahai\n",
            "Arabic\n"
          ]
        }
      ],
      "source": [
        "model.eval()\n",
        "names= ['Sahai']\n",
        "for name in names:\n",
        "    print(\"===================\")\n",
        "    print(\"Predicting origin language for name: \"+ name)\n",
        "    c = classify_name(name, model)\n",
        "    print(num_to_cat[c])"
      ]
    },
    {
      "cell_type": "markdown",
      "metadata": {
        "id": "JQ6ni5GZyUKr"
      },
      "source": [
        "## Woooo! All done. \n"
      ]
    }
  ],
  "metadata": {
    "accelerator": "GPU",
    "anaconda-cloud": {},
    "colab": {
      "collapsed_sections": [],
      "provenance": []
    },
    "kernelspec": {
      "display_name": "Python 3.8.5 ('SMAL')",
      "language": "python",
      "name": "python3"
    },
    "language_info": {
      "codemirror_mode": {
        "name": "ipython",
        "version": 3
      },
      "file_extension": ".py",
      "mimetype": "text/x-python",
      "name": "python",
      "nbconvert_exporter": "python",
      "pygments_lexer": "ipython3",
      "version": "3.8.5"
    },
    "varInspector": {
      "cols": {
        "lenName": 16,
        "lenType": 16,
        "lenVar": 40
      },
      "kernels_config": {
        "python": {
          "delete_cmd_postfix": "",
          "delete_cmd_prefix": "del ",
          "library": "var_list.py",
          "varRefreshCmd": "print(var_dic_list())"
        },
        "r": {
          "delete_cmd_postfix": ") ",
          "delete_cmd_prefix": "rm(",
          "library": "var_list.r",
          "varRefreshCmd": "cat(var_dic_list()) "
        }
      },
      "types_to_exclude": [
        "module",
        "function",
        "builtin_function_or_method",
        "instance",
        "_Feature"
      ],
      "window_display": false
    },
    "vscode": {
      "interpreter": {
        "hash": "5bba1f0f865988155f8427cc3255eb3c123c8915474baaec7c2a742bb2a98a34"
      }
    }
  },
  "nbformat": 4,
  "nbformat_minor": 0
}
