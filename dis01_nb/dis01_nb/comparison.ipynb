{
 "cells": [
  {
   "cell_type": "code",
   "execution_count": 2,
   "metadata": {},
   "outputs": [],
   "source": [
    "import torch\n",
    "import torch.nn as nn\n",
    "import matplotlib.pyplot as plt\n",
    "import numpy as np\n",
    "import copy\n",
    "import time\n",
    "from ipywidgets import fixed, interactive, widgets \n",
    "\n",
    "from helpers import *\n",
    "\n",
    "%matplotlib inline"
   ]
  },
  {
   "cell_type": "code",
   "execution_count": 3,
   "metadata": {},
   "outputs": [],
   "source": [
    "f_type = 'piecewise_linear'\n",
    "\n",
    "def f_true(X, f_type):\n",
    "    if f_type == 'sin(20x)':\n",
    "        return np.sin(20 * X[:,0])\n",
    "    else:\n",
    "        TenX = 10 * X[:,0]\n",
    "        _ = 12345\n",
    "        return (TenX - np.floor(TenX)) * np.sin(_ * np.ceil(TenX)) - (TenX - np.ceil(TenX)) * np.sin(_ * np.floor(TenX)) \n",
    "    \n",
    "n_features = 1\n",
    "n_samples = 200\n",
    "sigma = 0.1\n",
    "rng = np.random.RandomState(1)\n",
    "\n",
    "# Generate train data\n",
    "X = np.sort(rng.rand(n_samples, n_features), axis=0)\n",
    "y = f_true(X, f_type) + rng.randn(n_samples) * sigma\n",
    "\n",
    "# Generate NOISELESS test data\n",
    "X_test = np.concatenate([X.copy(), np.expand_dims(np.linspace(0., 1., 1000), axis=1)])\n",
    "X_test = np.sort(X_test, axis=0)\n",
    "y_test = f_true(X_test, f_type)"
   ]
  },
  {
   "cell_type": "code",
   "execution_count": 4,
   "metadata": {},
   "outputs": [],
   "source": [
    "# Don't rerun this cell after training or you will lose all your work\n",
    "nets_by_size = {}"
   ]
  },
  {
   "cell_type": "code",
   "execution_count": 19,
   "metadata": {},
   "outputs": [],
   "source": [
    "widths = [10, 20, 40]\n",
    "for width in widths:\n",
    "    # Define a 1-hidden layer ReLU nonlinearity network\n",
    "    net = nn.Sequential(nn.Linear(1, width),\n",
    "                        nn.ReLU(),\n",
    "                        nn.Linear(width, width),\n",
    "                        nn.ReLU(),\n",
    "                        nn.Linear(width, 1))\n",
    "    loss = nn.MSELoss()\n",
    "    # Get trainable parameters\n",
    "    weights_all = list(net.parameters())\n",
    "    # Get the output weights alone\n",
    "    weights_out = weights_all[2:]\n",
    "    # Adjust initial biases so elbows are in [0,1]\n",
    "    elbows = np.sort(np.random.rand(width))\n",
    "#     print(\"Elbows located at:\")\n",
    "#     print(elbows)\n",
    "    new_biases = -elbows * to_numpy(weights_all[0]).ravel()\n",
    "    weights_all[1].data = to_torch(new_biases)\n",
    "    # Create SGD optimizers for outputs alone and for all weights\n",
    "    lr_out = 0.2\n",
    "    lr_all = 0.02\n",
    "    opt_all = torch.optim.SGD(params=weights_all, lr=lr_all)\n",
    "    opt_out = torch.optim.SGD(params=weights_out, lr=lr_out)\n",
    "    # Save initial state for comparisons\n",
    "    initial_weights = copy.deepcopy(net.state_dict())\n",
    "    torch.nn.init.kaiming_uniform_(net[0].weight)\n",
    "    net[0].bias = nn.Parameter(torch.Tensor(np.random.normal(loc=0.0, scale=1, size=(width, 1)) * np.sqrt(1./width)))\n",
    "    # torch.nn.init.xavier_uniform_(net[0].bias)\n",
    "    # print(\"Initial Weights\", initial_weights)\n",
    "    nets_by_size[width] = {'net': net, 'opt_all': opt_all, \n",
    "                           'opt_out': opt_out, 'init': initial_weights}\n",
    "    # nn.init.kaiming_uniform_(nets_by_size[width]['net'][1].parameters(), mode='fan_in', nonlinearity='relu')"
   ]
  }
 ],
 "metadata": {
  "kernelspec": {
   "display_name": "Python 3.8.13 ('deepl')",
   "language": "python",
   "name": "python3"
  },
  "language_info": {
   "codemirror_mode": {
    "name": "ipython",
    "version": 3
   },
   "file_extension": ".py",
   "mimetype": "text/x-python",
   "name": "python",
   "nbconvert_exporter": "python",
   "pygments_lexer": "ipython3",
   "version": "3.8.13"
  },
  "orig_nbformat": 4,
  "vscode": {
   "interpreter": {
    "hash": "b96b90247f779626951b155c9e3e4da59f738405f5787b96ce19716c3bf6bd5b"
   }
  }
 },
 "nbformat": 4,
 "nbformat_minor": 2
}
