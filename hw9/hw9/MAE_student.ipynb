{
  "cells": [
    {
      "cell_type": "markdown",
      "metadata": {
        "id": "ohhBQGEKZ9z-"
      },
      "source": [
        "# Vision Transformer and Masked Autoencoder\n",
        "\n",
        "In this assignment, you will be implementing [Vision Transformer (ViT)](https://arxiv.org/abs/2010.11929) and [Masked Autoencoder (MAE)](https://arxiv.org/abs/2111.06377)."
      ]
    },
    {
      "cell_type": "markdown",
      "metadata": {
        "id": "Sr_tSqTXc0VE"
      },
      "source": [
        "## Setup"
      ]
    },
    {
      "cell_type": "markdown",
      "metadata": {
        "id": "M-f8SLhqa585"
      },
      "source": [
        "We recommend working on Colab with GPU enabled since this assignment needs a fair amount of compute.\n",
        "In Colab, we can enforce using GPU by clicking `Runtime -> Change Runtime Type -> Hardware accelerator` and selecting `GPU`.\n",
        "The dependencies will be installed once the notebooks are excuted.\n",
        "\n",
        "You should make a copy of this notebook to your Google Drive otherwise the outputs will not be saved.\n",
        "Once the folder is copied, you can start working by clicking a Jupyter Notebook and openning it in Colab."
      ]
    },
    {
      "cell_type": "code",
      "execution_count": 173,
      "metadata": {
        "id": "nI_3cNKMGL2a"
      },
      "outputs": [
        {
          "name": "stdout",
          "output_type": "stream",
          "text": [
            "Mon Nov 21 01:38:08 2022       \n",
            "+-----------------------------------------------------------------------------+\n",
            "| NVIDIA-SMI 510.85.02    Driver Version: 510.85.02    CUDA Version: 11.6     |\n",
            "|-------------------------------+----------------------+----------------------+\n",
            "| GPU  Name        Persistence-M| Bus-Id        Disp.A | Volatile Uncorr. ECC |\n",
            "| Fan  Temp  Perf  Pwr:Usage/Cap|         Memory-Usage | GPU-Util  Compute M. |\n",
            "|                               |                      |               MIG M. |\n",
            "|===============================+======================+======================|\n",
            "|   0  NVIDIA GeForce ...  Off  | 00000000:01:00.0 Off |                  N/A |\n",
            "| N/A   43C    P8     3W /  N/A |    861MiB /  6144MiB |      0%      Default |\n",
            "|                               |                      |                  N/A |\n",
            "+-------------------------------+----------------------+----------------------+\n",
            "                                                                               \n",
            "+-----------------------------------------------------------------------------+\n",
            "| Processes:                                                                  |\n",
            "|  GPU   GI   CI        PID   Type   Process name                  GPU Memory |\n",
            "|        ID   ID                                                   Usage      |\n",
            "|=============================================================================|\n",
            "|    0   N/A  N/A      1212      G   /usr/lib/xorg/Xorg                  4MiB |\n",
            "|    0   N/A  N/A     35246      C   ...da3/envs/deepl/bin/python      853MiB |\n",
            "+-----------------------------------------------------------------------------+\n"
          ]
        }
      ],
      "source": [
        "!nvidia-smi # Confirm GPU is enabled"
      ]
    },
    {
      "cell_type": "code",
      "execution_count": 174,
      "metadata": {
        "id": "9hFl82FA59le"
      },
      "outputs": [],
      "source": [
        "! pip -q install einops"
      ]
    },
    {
      "cell_type": "markdown",
      "metadata": {},
      "source": [
        "If you are not running on Colab, you may also need to pip install the following packages:\n",
        "\n",
        "seaborn torch torchvision numpy matplotlib tqdm."
      ]
    },
    {
      "cell_type": "code",
      "execution_count": 175,
      "metadata": {
        "id": "imL8NunGXV5f"
      },
      "outputs": [],
      "source": [
        "import numpy as np\n",
        "from matplotlib import pyplot as plt\n",
        "import seaborn\n",
        "seaborn.set()\n",
        "\n",
        "import tqdm as td\n",
        "\n",
        "import torch\n",
        "import torch.nn as nn\n",
        "import torch.nn.functional as F\n",
        "import torch.optim as optim\n",
        "\n",
        "import torchvision\n",
        "import torchvision.transforms as transforms\n",
        "\n",
        "import einops\n",
        "import pickle\n",
        "import os\n",
        "\n",
        "torch_device = 'cuda' if torch.cuda.is_available() else 'cpu'"
      ]
    },
    {
      "cell_type": "markdown",
      "metadata": {
        "id": "X1wxozGQcVUz"
      },
      "source": [
        "**Note**: change ```root_folder``` to the folder of this notebook in your google drive"
      ]
    },
    {
      "cell_type": "code",
      "execution_count": 177,
      "metadata": {
        "id": "eRrKGY0ycIS6"
      },
      "outputs": [],
      "source": [
        "root_folder = \"/home/cleverctz/berkeley/cs182_deeplearning/data/\" # Change this to your own path\n",
        "os.makedirs(root_folder, exist_ok=True)\n",
        "os.chdir(root_folder)"
      ]
    },
    {
      "cell_type": "code",
      "execution_count": null,
      "metadata": {
        "cellView": "form",
        "id": "nl3t1xKoWee7"
      },
      "outputs": [
        {
          "name": "stdout",
          "output_type": "stream",
          "text": [
            "--2022-11-20 23:54:24--  https://cs182sp22.github.io/assets/data/autograder_student.pt\n",
            "Resolving cs182sp22.github.io (cs182sp22.github.io)... 2606:50c0:8003::153, 2606:50c0:8000::153, 2606:50c0:8001::153, ...\n",
            "Connecting to cs182sp22.github.io (cs182sp22.github.io)|2606:50c0:8003::153|:443... connected.\n",
            "HTTP request sent, awaiting response... 200 OK\n",
            "Length: 44880551 (43M) [application/octet-stream]\n",
            "Saving to: ‘/home/cleverctz/berkeley/cs182_deeplearning/data/autograder_student.pt’\n",
            "\n",
            "/home/cleverctz/ber 100%[===================>]  42.80M  7.05MB/s    in 4.9s    \n",
            "\n",
            "2022-11-20 23:54:31 (8.67 MB/s) - ‘/home/cleverctz/berkeley/cs182_deeplearning/data/autograder_student.pt’ saved [44880551/44880551]\n",
            "\n",
            "--2022-11-20 23:54:31--  https://cs182sp22.github.io/assets/data/test_reference.pt\n",
            "Resolving cs182sp22.github.io (cs182sp22.github.io)... 2606:50c0:8002::153, 2606:50c0:8001::153, 2606:50c0:8000::153, ...\n",
            "Connecting to cs182sp22.github.io (cs182sp22.github.io)|2606:50c0:8002::153|:443... connected.\n",
            "HTTP request sent, awaiting response... 200 OK\n",
            "Length: 45954513 (44M) [application/octet-stream]\n",
            "Saving to: ‘/home/cleverctz/berkeley/cs182_deeplearning/data/test_reference.pt’\n",
            "\n",
            "/home/cleverctz/ber 100%[===================>]  43.83M  9.89MB/s    in 4.8s    \n",
            "\n",
            "2022-11-20 23:54:38 (9.09 MB/s) - ‘/home/cleverctz/berkeley/cs182_deeplearning/data/test_reference.pt’ saved [45954513/45954513]\n",
            "\n"
          ]
        }
      ],
      "source": [
        "#@title Download Testing Data\n",
        "! wget -O '/home/cleverctz/berkeley/cs182_deeplearning/data/autograder_student.pt' 'https://cs182sp22.github.io/assets/data/autograder_student.pt'\n",
        "! wget -O '/home/cleverctz/berkeley/cs182_deeplearning/data/test_reference.pt' 'https://cs182sp22.github.io/assets/data/test_reference.pt'\n",
        "\n",
        "test_data = torch.load('/home/cleverctz/berkeley/cs182_deeplearning/data/test_reference.pt')\n",
        "auto_grader_data = torch.load('/home/cleverctz/berkeley/cs182_deeplearning/data/autograder_student.pt')\n",
        "auto_grader_data['output'] = {}"
      ]
    },
    {
      "cell_type": "code",
      "execution_count": null,
      "metadata": {
        "cellView": "form",
        "id": "Uv1eceRfsIHZ"
      },
      "outputs": [],
      "source": [
        "#@title Utilities for Testing\n",
        "def save_auto_grader_data():\n",
        "    torch.save(\n",
        "        {'output': auto_grader_data['output']},\n",
        "        'autograder.pt'\n",
        "    )\n",
        "\n",
        "def rel_error(x, y):\n",
        "    return torch.max(\n",
        "        torch.abs(x - y)\n",
        "        / (torch.maximum(torch.tensor(1e-8), torch.abs(x) + torch.abs(y)))\n",
        "    ).item()\n",
        "\n",
        "def check_error(name, x, y, tol=1e-3):\n",
        "    error = rel_error(x, y)\n",
        "    if error > tol:\n",
        "        print(f'The relative error for {name} is {error}, should be smaller than {tol}')\n",
        "    else:\n",
        "        print(f'The relative error for {name} is {error}')\n",
        "\n",
        "def check_acc(acc, threshold):\n",
        "    if acc < threshold:\n",
        "        print(f'The accuracy {acc} should >= threshold accuracy {threshold}')\n",
        "    else:\n",
        "        print(f'The accuracy {acc} is better than threshold accuracy {threshold}')"
      ]
    },
    {
      "cell_type": "markdown",
      "metadata": {
        "id": "-Ii0DgIQdsmQ"
      },
      "source": [
        "## Vision Transformer\n",
        "The first part of this notebook is implementing Vision Transformer (ViT) and training it on CIFAR dataset."
      ]
    },
    {
      "cell_type": "markdown",
      "metadata": {
        "id": "MquneePhckk8"
      },
      "source": [
        "### Image patchify and unpatchify\n",
        "\n",
        "In ViT, an image is split into fixed-size patches, each of them are then linearly embedded, position embeddings are added, and the resulting sequence of vectors is fed to a standard Transformer encoder. The architecture can be seen in the following figure.\n",
        "![vit](https://github.com/google-research/vision_transformer/blob/main/vit_figure.png?raw=true)\n",
        "\n",
        "To get started with implementing ViT, we need to implement splitting image batch into fixed-size patches batch in ```patchify``` and combining patches batch into the original image batch in ```unpatchify```. These functions have been implemented for you.\n",
        "\n",
        "This implementation uses [einops](https://github.com/arogozhnikov/einops) for flexible tensor operations, you can check out its [tutorial](https://einops.rocks/1-einops-basics/). "
      ]
    },
    {
      "cell_type": "code",
      "execution_count": 201,
      "metadata": {
        "id": "hS2qs7nD5iyp"
      },
      "outputs": [],
      "source": [
        "def patchify(images, patch_size=4):\n",
        "    \"\"\"Splitting images into patches.\n",
        "    Args:\n",
        "        images: Input tensor with size (batch, channels, height, width)\n",
        "            We can assume that image is square where height == width.\n",
        "    Returns:\n",
        "        A batch of image patches with size (\n",
        "          batch, (height / patch_size) * (width / patch_size), \n",
        "        channels * patch_size * patch_size)\n",
        "    Hint: use einops.rearrange. The \"space-to-depth operation\" example at https://einops.rocks/api/rearrange/ \n",
        "    is not exactly what you need, but it gives a good idea of how to use rearrange.\n",
        "    \"\"\"\n",
        "    return einops.rearrange(\n",
        "        images,\n",
        "        'b c (h p1) (w p2) -> b (h w) (c p1 p2)',\n",
        "        p1=patch_size,\n",
        "        p2=patch_size\n",
        "    )\n",
        "\n",
        "def unpatchify(patches, patch_size=4):\n",
        "    \"\"\"Combining patches into images.\n",
        "    Args:\n",
        "        patches: Input tensor with size (\n",
        "        batch, (height / patch_size) * (width / patch_size), \n",
        "        channels * patch_size * patch_size)\n",
        "    Returns:\n",
        "        A batch of images with size (batch, channels, height, width)\n",
        "        \n",
        "    Hint: einops.rearrange can be used here as well.\n",
        "    \"\"\"\n",
        "    return einops.rearrange(\n",
        "        patches,\n",
        "        'b (h w) (c p1 p2) -> b c (h p1) (w p2)',\n",
        "        p1=patch_size,\n",
        "        p2=patch_size,\n",
        "        h=int(patches.shape[1] ** 0.5),\n",
        "        w=int(patches.shape[1] ** 0.5),\n",
        "    )"
      ]
    },
    {
      "cell_type": "code",
      "execution_count": 202,
      "metadata": {
        "cellView": "form",
        "id": "plMY_EoNZ4ip"
      },
      "outputs": [
        {
          "name": "stdout",
          "output_type": "stream",
          "text": [
            "The relative error for patchify is 0.0\n",
            "The relative error for unpatchify is 0.0\n"
          ]
        }
      ],
      "source": [
        "#@title Test your implementation\n",
        "x = test_data['input']['patchify']\n",
        "y = test_data['output']['patchify']\n",
        "check_error('patchify', patchify(x), y)\n",
        "\n",
        "x = auto_grader_data['input']['patchify']\n",
        "auto_grader_data['output']['patchify'] = patchify(x)\n",
        "save_auto_grader_data()\n",
        "\n",
        "\n",
        "x = test_data['input']['unpatchify']\n",
        "y = test_data['output']['unpatchify']\n",
        "check_error('unpatchify', unpatchify(x), y)\n",
        "\n",
        "x = auto_grader_data['input']['unpatchify']\n",
        "auto_grader_data['output']['unpatchify'] = unpatchify(x)\n",
        "\n",
        "save_auto_grader_data()"
      ]
    },
    {
      "cell_type": "markdown",
      "metadata": {
        "id": "sFlVruRYhBlR"
      },
      "source": [
        "### ViT model\n",
        "You need to use the given Transformer encoder ```Transformer``` to implement ViT in ```ViT``` and ```ClassificationViT```."
      ]
    },
    {
      "cell_type": "code",
      "execution_count": null,
      "metadata": {
        "id": "gpZeS39N8BPJ"
      },
      "outputs": [],
      "source": [
        "class Transformer(nn.Module):\n",
        "    \"\"\"Transformer Encoder \n",
        "    Args:\n",
        "        embedding_dim: dimension of embedding\n",
        "        n_heads: number of attention heads\n",
        "        n_layers: number of attention layers\n",
        "        feedforward_dim: hidden dimension of MLP layer\n",
        "    Returns:\n",
        "        Transformer embedding of input\n",
        "    \"\"\"\n",
        "    def __init__(self, embedding_dim=256, n_heads=4, n_layers=4, feedforward_dim=1024):\n",
        "        super().__init__()\n",
        "        self.embedding_dim = embedding_dim\n",
        "        self.n_layers = n_layers\n",
        "        self.n_heads = n_heads\n",
        "        self.feedforward_dim = feedforward_dim\n",
        "        self.transformer = nn.TransformerEncoder(\n",
        "            nn.TransformerEncoderLayer(\n",
        "                d_model=embedding_dim,\n",
        "                nhead=self.n_heads,\n",
        "                dim_feedforward=self.feedforward_dim,\n",
        "                activation=F.gelu,\n",
        "                batch_first=True,\n",
        "                dropout=0.0,\n",
        "            ),\n",
        "            num_layers=n_layers,\n",
        "        )\n",
        "\n",
        "    def forward(self, x):\n",
        "        return self.transformer(x)\n",
        "\n",
        "class ClassificationViT(nn.Module):\n",
        "    \"\"\"Vision transformer for classfication\n",
        "    Args:\n",
        "        n_classes: number of classes \n",
        "        embedding_dim: dimension of embedding\n",
        "        patch_size: image patch size\n",
        "        num_patches: number of image patches\n",
        "    Returns:\n",
        "        Logits of classfication\n",
        "    \"\"\"\n",
        "    def __init__(self, n_classes, embedding_dim=256, patch_size=4, num_patches=8):\n",
        "        super().__init__()\n",
        "        self.patch_size = patch_size\n",
        "        self.num_patches = num_patches\n",
        "        self.embedding_dim = embedding_dim\n",
        "\n",
        "        self.transformer = Transformer(embedding_dim)\n",
        "        self.cls_token = nn.Parameter(torch.randn(1, 1, embedding_dim) * 0.02)\n",
        "        self.position_encoding = nn.Parameter(\n",
        "            torch.randn(1, num_patches * num_patches + 1, embedding_dim) * 0.02\n",
        "        )\n",
        "        self.patch_projection = nn.Linear(patch_size * patch_size * 3, embedding_dim)\n",
        "        \n",
        "        # A Layernorm and a Linear layer are applied on ViT encoder embeddings\n",
        "        self.output_head = nn.Sequential(\n",
        "            nn.LayerNorm(embedding_dim), nn.Linear(embedding_dim, n_classes)\n",
        "        )\n",
        "\n",
        "    def forward(self, images):\n",
        "        # (1) Splitting images into fixed-size patches; \n",
        "        patches = patchify(images, patch_size = self.patch_size)\n",
        "        # (2) Linearly embed each image patch, prepend CLS token; \n",
        "        embedded = self.patch_projection(patches)\n",
        "        b, n, _ = embedded.shape\n",
        "        cls_tokens = einops.repeat(self.cls_token,'1 1 d -> b 1 d', b=b)\n",
        "        # (3) Add position embeddings;\n",
        "        encoded = torch.cat(( cls_tokens, embedded), dim = 1) + self.position_encoding[:,:(n+1)]\n",
        "        # (4) Feed the resulting sequence of vectors to Transformer encoder.\n",
        "        out_transformer = self.transformer(encoded)\n",
        "        # (5) Extract the embeddings corresponding to the CLS token.\n",
        "        \n",
        "        # (6) Apply output head to the embeddings to obtain the logits\n",
        "        return self.output_head(out_transformer[:,0])\n",
        "        # BEGIN YOUR CODE\n",
        "        # END YOUR CODE\n"
      ]
    },
    {
      "cell_type": "code",
      "execution_count": null,
      "metadata": {
        "cellView": "form",
        "id": "D3-wRAClbpnf"
      },
      "outputs": [
        {
          "name": "stdout",
          "output_type": "stream",
          "text": [
            "The relative error for ClassificationViT.forward is 2.1712190573452972e-05\n"
          ]
        }
      ],
      "source": [
        "#@title Test your implementation\n",
        "model = ClassificationViT(10)\n",
        "model.load_state_dict(test_data['weights']['ClassificationViT'])\n",
        "x = test_data['input']['ClassificationViT.forward']\n",
        "y = model.forward(x)\n",
        "check_error('ClassificationViT.forward', y, test_data['output']['ClassificationViT.forward'])\n",
        "\n",
        "model.load_state_dict(auto_grader_data['weights']['ClassificationViT'])\n",
        "x = auto_grader_data['input']['ClassificationViT.forward']\n",
        "y = model.forward(x)\n",
        "auto_grader_data['output']['ClassificationViT.forward'] = y\n",
        "save_auto_grader_data()"
      ]
    },
    {
      "cell_type": "markdown",
      "metadata": {
        "id": "R1m2Q5dNnZXT"
      },
      "source": [
        "### Data Loader and Preprocess\n",
        "\n",
        "We use ```torchvision``` to download and prepare images and labels."
      ]
    },
    {
      "cell_type": "code",
      "execution_count": 178,
      "metadata": {
        "id": "F_EBBMgv-FRI"
      },
      "outputs": [
        {
          "name": "stdout",
          "output_type": "stream",
          "text": [
            "Files already downloaded and verified\n",
            "Files already downloaded and verified\n"
          ]
        }
      ],
      "source": [
        "transform_train = transforms.Compose([\n",
        "    transforms.RandomCrop(32, padding=4),\n",
        "    transforms.Resize(32),\n",
        "    transforms.RandomHorizontalFlip(),\n",
        "    transforms.ToTensor(),\n",
        "    transforms.Normalize((0.4914, 0.4822, 0.4465), (0.2023, 0.1994, 0.2010)),\n",
        "])\n",
        "\n",
        "transform_test = transforms.Compose([\n",
        "    transforms.Resize(32),\n",
        "    transforms.ToTensor(),\n",
        "    transforms.Normalize((0.4914, 0.4822, 0.4465), (0.2023, 0.1994, 0.2010)),\n",
        "])\n",
        "\n",
        "batch_size = 128\n",
        "\n",
        "trainset = torchvision.datasets.CIFAR10(root=root_folder, train=True,\n",
        "                                        download=True, transform=transform_train)\n",
        "trainloader = torch.utils.data.DataLoader(trainset, batch_size=batch_size,\n",
        "                                          shuffle=True, num_workers=2)\n",
        "\n",
        "testset = torchvision.datasets.CIFAR10(root=root_folder, train=False,\n",
        "                                       download=True, transform=transform_test)\n",
        "testloader = torch.utils.data.DataLoader(testset, batch_size=batch_size,\n",
        "                                         shuffle=False, num_workers=2)"
      ]
    },
    {
      "cell_type": "markdown",
      "metadata": {
        "id": "FnTEdan3r3_K"
      },
      "source": [
        "### Supervised Training ViT \n",
        "\n"
      ]
    },
    {
      "cell_type": "code",
      "execution_count": null,
      "metadata": {
        "id": "5JyOv6GfCFVQ"
      },
      "outputs": [
        {
          "name": "stderr",
          "output_type": "stream",
          "text": [
            "100%|██████████| 391/391 [00:26<00:00, 14.56it/s, loss=1.82, train_acc=0.275]\n",
            "100%|██████████| 391/391 [00:28<00:00, 13.92it/s, loss=1.42, train_acc=0.55]38]\n",
            "100%|██████████| 391/391 [00:30<00:00, 12.79it/s, loss=1.32, train_acc=0.512]  \n",
            "100%|██████████| 391/391 [00:30<00:00, 12.64it/s, loss=1.19, train_acc=0.538]558]\n",
            "100%|██████████| 391/391 [00:32<00:00, 12.17it/s, loss=1.39, train_acc=0.538]549]\n",
            "100%|██████████| 391/391 [00:32<00:00, 11.88it/s, loss=1.2, train_acc=0.575].563]\n",
            "100%|██████████| 391/391 [00:33<00:00, 11.80it/s, loss=0.985, train_acc=0.688]04]\n",
            "100%|██████████| 391/391 [00:33<00:00, 11.70it/s, loss=0.968, train_acc=0.637]43]\n",
            "100%|██████████| 391/391 [00:35<00:00, 10.97it/s, loss=1.07, train_acc=0.625]672]\n",
            "100%|██████████| 391/391 [00:37<00:00, 10.36it/s, loss=0.954, train_acc=0.625]54]\n",
            "100%|██████████| 10/10 [05:44<00:00, 34.44s/it, best_val_acc=0.676, val_acc=0.676]\n"
          ]
        },
        {
          "data": {
            "text/plain": [
              "Text(0.5, 1.0, 'Val Accuracy')"
            ]
          },
          "execution_count": 37,
          "metadata": {},
          "output_type": "execute_result"
        },
        {
          "data": {
            "image/png": "[encoded data removed]",
            "text/plain": [
              "<Figure size 640x480 with 1 Axes>"
            ]
          },
          "metadata": {},
          "output_type": "display_data"
        },
        {
          "data": {
            "image/png": "[encoded data removed]",
            "text/plain": [
              "<Figure size 640x480 with 1 Axes>"
            ]
          },
          "metadata": {},
          "output_type": "display_data"
        },
        {
          "data": {
            "image/png": "[encoded data removed]",
            "text/plain": [
              "<Figure size 640x480 with 1 Axes>"
            ]
          },
          "metadata": {},
          "output_type": "display_data"
        }
      ],
      "source": [
        "# Initilize model (ClassificationViT)\n",
        "model = ClassificationViT(10)\n",
        "# Move model to GPU \n",
        "model.to(torch_device)\n",
        "# Create optimizer for the model\n",
        "\n",
        "# You may want to tune these hyperparameters to get better performance\n",
        "optimizer = optim.AdamW(model.parameters(), lr=1e-3, betas=(0.9, 0.95), weight_decay=1e-9)\n",
        "\n",
        "total_steps = 0\n",
        "num_epochs = 10\n",
        "train_logfreq = 100\n",
        "losses = []\n",
        "train_acc = []\n",
        "all_val_acc = []\n",
        "best_val_acc = 0\n",
        "\n",
        "epoch_iterator = td.trange(num_epochs)\n",
        "for epoch in epoch_iterator:\n",
        "    # Train\n",
        "    data_iterator = td.tqdm(trainloader)\n",
        "    for x, y in data_iterator:\n",
        "        total_steps += 1\n",
        "        x, y = x.to(torch_device), y.to(torch_device)\n",
        "        logits = model(x)\n",
        "        loss = torch.mean(F.cross_entropy(logits, y))\n",
        "        accuracy = torch.mean((torch.argmax(logits, dim=-1) == y).float())\n",
        "        optimizer.zero_grad()\n",
        "        loss.backward()\n",
        "        optimizer.step()\n",
        "\n",
        "        data_iterator.set_postfix(loss=loss.item(), train_acc=accuracy.item())\n",
        "\n",
        "        if total_steps % train_logfreq == 0:\n",
        "            losses.append(loss.item())\n",
        "            train_acc.append(accuracy.item())\n",
        "\n",
        "    # Validation\n",
        "    val_acc = []\n",
        "    model.eval()\n",
        "    for x, y in testloader:\n",
        "        x, y = x.to(torch_device), y.to(torch_device)\n",
        "        with torch.no_grad():\n",
        "          logits = model(x)\n",
        "        accuracy = torch.mean((torch.argmax(logits, dim=-1) == y).float())\n",
        "        val_acc.append(accuracy.item())\n",
        "    model.train()\n",
        "\n",
        "    all_val_acc.append(np.mean(val_acc))\n",
        "    # Save best model\n",
        "    if np.mean(val_acc) > best_val_acc:\n",
        "        best_val_acc = np.mean(val_acc)\n",
        "\n",
        "    epoch_iterator.set_postfix(val_acc=np.mean(val_acc), best_val_acc=best_val_acc)\n",
        "\n",
        "plt.plot(losses)\n",
        "plt.title('Train Loss')\n",
        "plt.figure()\n",
        "plt.plot(train_acc)\n",
        "plt.title('Train Accuracy')\n",
        "plt.figure()\n",
        "plt.plot(all_val_acc)\n",
        "plt.title('Val Accuracy')"
      ]
    },
    {
      "cell_type": "code",
      "execution_count": null,
      "metadata": {
        "cellView": "form",
        "id": "OikMO6_LCmik"
      },
      "outputs": [
        {
          "name": "stdout",
          "output_type": "stream",
          "text": [
            "The accuracy 0.6761273734177216 is better than threshold accuracy 0.65\n"
          ]
        }
      ],
      "source": [
        "#@title Test your implementation, your accuracy should be greater than 65%\n",
        "auto_grader_data['output']['vit_acc'] = best_val_acc\n",
        "save_auto_grader_data()\n",
        "check_acc(best_val_acc, threshold=0.65)"
      ]
    },
    {
      "cell_type": "markdown",
      "metadata": {
        "id": "Ij4IVDMIsB5o"
      },
      "source": [
        "## Masked AutoEncoder\n",
        "\n",
        "The second part of this notebook is implementing Masked Autoencoder (MAE).\n",
        "The idea of MAE is masking random patches of the input image and reconstruct the missing pixels. This whole achitecture can be seen in the following figure.\n",
        "![mae](https://user-images.githubusercontent.com/11435359/146857310-f258c86c-fde6-48e8-9cee-badd2b21bd2c.png)\n",
        "\n",
        "You will train MAE without labels on CIFAR, aka, self-supervised learning.\n",
        "Then you will use the self-supervised pretrained model for linear classification and finetuning experiments."
      ]
    },
    {
      "cell_type": "markdown",
      "metadata": {
        "id": "ufTgPU_Rszsd"
      },
      "source": [
        "### Random Masking and Restore\n",
        "\n",
        "To get started with MAE, you need to implement ```random_masking``` to mask random patches from the input image and ```restore_masked``` to combine reconstructed masked part and unmasked part to restore the image."
      ]
    },
    {
      "cell_type": "code",
      "execution_count": null,
      "metadata": {
        "id": "eKkRHTjMUOJ7"
      },
      "outputs": [],
      "source": [
        "def index_sequence(x, ids):\n",
        "    \"\"\"Index tensor (x) with indices given by ids\n",
        "    Args:\n",
        "        x: input sequence tensor, can be 2D (batch x length) or 3D (batch x length x feature)\n",
        "        ids: 2D indices (batch x length) for re-indexing the sequence tensor\n",
        "    \"\"\"\n",
        "    if len(x.shape) == 3:\n",
        "        ids = ids.unsqueeze(-1).expand(-1, -1, x.shape[-1])\n",
        "    return torch.take_along_dim(x, ids, dim=1)\n",
        "\n",
        "def random_masking(x, keep_length, ids_shuffle):\n",
        "    \"\"\"Apply random masking on input tensor\n",
        "    Args:\n",
        "        x: input patches (batch x length x feature)\n",
        "        keep_length: length of unmasked patches\n",
        "        ids_shuffle: random indices for shuffling the input sequence. This is an\n",
        "            array of size (batch x length) where each row is a permutation of \n",
        "            [0, 1, ..., length-1]. We will pass this array to index_sequence function\n",
        "            to chooose the unmasked patches.\n",
        "    Returns:\n",
        "        kept: unmasked part of x\n",
        "        mask: a 2D (batch x length) mask tensor of 0s and 1s indicated which\n",
        "            part of x is masked out. The value 0 indicates not masked and 1\n",
        "            indicates masked.\n",
        "        ids_restore: indices to restore x. This is an array of size (batch x length).\n",
        "            If we take the kept part and masked\n",
        "            part of x, concatentate them together and index it with ids_restore,\n",
        "            we should get x back. (Hint: try using torch.argsort on the shuffle indices)\n",
        "\n",
        "    Hint:\n",
        "        ids_shuffle contains the indices used to shuffle the sequence (patches).\n",
        "        You should use the provided index_sequence function to re-index the\n",
        "        sequence, and keep the first keep_length number of patches.\n",
        "    \"\"\"\n",
        "    batch, length, feature = x.shape\n",
        "    shuffled_x = index_sequence(x, ids_shuffle)\n",
        "    kept = shuffled_x[:, :keep_length]\n",
        "    mask = torch.ones([batch, length], device=x.device)\n",
        "    mask[:, :keep_length] = 0\n",
        "    \n",
        "    ids_restore = torch.argsort(ids_shuffle, dim=1)\n",
        "    mask = torch.gather(mask, dim=1, index=ids_restore)\n",
        "\n",
        "\n",
        "    return kept, mask, ids_restore\n",
        "    # BEGIN YOUR CODE\n",
        "    raise NotImplementedError\n",
        "    # END YOUR CODE\n",
        "\n",
        "def restore_masked(kept_x, masked_x, ids_restore):\n",
        "    \"\"\"Restore masked patches\n",
        "    Args:\n",
        "        kept_x: unmasked patches: (batch x keep_length x feature)\n",
        "        masked_x: masked patches: (batch x (length - keep_length) x feature)\n",
        "        ids_restore: indices to restore x: (batch x length)\n",
        "    Returns:\n",
        "        restored patches\n",
        "    Hint: call the index_sequence function on an array with the kept and masked tokens concatenated\n",
        "    \"\"\"\n",
        "    # BEGIN YOUR CODE\n",
        "    cated = torch.cat((kept_x, masked_x), dim = 1)\n",
        "\n",
        "    return index_sequence(cated, ids_restore)\n",
        "\n",
        "    raise NotImplementedError\n",
        "    # END YOUR CODE"
      ]
    },
    {
      "cell_type": "code",
      "execution_count": null,
      "metadata": {
        "cellView": "form",
        "id": "QxXqQ6Qk9FLX"
      },
      "outputs": [
        {
          "name": "stdout",
          "output_type": "stream",
          "text": [
            "The relative error for random_masking: kept is 0.0\n",
            "The relative error for random_masking: mask is 0.0\n",
            "The relative error for random_masking: ids_restore is 0.0\n",
            "The relative error for restore_masked is 0.0\n"
          ]
        }
      ],
      "source": [
        "#@title Test your implementation\n",
        "x, ids_shuffle = test_data['input']['random_masking']\n",
        "kept, mask, ids_restore = random_masking(x, 4, ids_shuffle)\n",
        "kept_t, mask_t, ids_restore_t = test_data['output']['random_masking']\n",
        "check_error('random_masking: kept', kept, kept_t)\n",
        "check_error('random_masking: mask', mask, mask_t)\n",
        "check_error('random_masking: ids_restore', ids_restore, ids_restore_t)\n",
        "\n",
        "x, ids_shuffle = auto_grader_data['input']['random_masking']\n",
        "kept, mask, ids_restore = random_masking(x, 4, ids_shuffle)\n",
        "auto_grader_data['output']['random_masking'] = (kept, mask, ids_restore)\n",
        "save_auto_grader_data()\n",
        "\n",
        "kept_x, masked_x, ids_restore = test_data['input']['restore_masked']\n",
        "restored = restore_masked(kept_x, masked_x, ids_restore)\n",
        "check_error('restore_masked', restored, test_data['output']['restore_masked'])\n",
        "\n",
        "kept_x, masked_x, ids_restore = auto_grader_data['input']['restore_masked']\n",
        "restored = restore_masked(kept_x, masked_x, ids_restore)\n",
        "auto_grader_data['output']['restore_masked'] = (kept, mask, ids_restore)\n",
        "save_auto_grader_data()"
      ]
    },
    {
      "cell_type": "code",
      "execution_count": 197,
      "metadata": {
        "id": "9ud7I0SXK0mk"
      },
      "outputs": [],
      "source": [
        "class MaskedAutoEncoder(nn.Module):\n",
        "    \"\"\"MAE Encoder\n",
        "    Args:\n",
        "        encoder: vit encoder\n",
        "        decoder: vit decoder\n",
        "        encoder_embedding_dim: embedding size of encoder\n",
        "        decoder_embedding_dim: embedding size of decoder\n",
        "        patch_size: image patch size\n",
        "        num_patches: number of patches\n",
        "        mask_ratio: percentage of masked patches\n",
        "    \"\"\"\n",
        "    def __init__(self, encoder, decoder, encoder_embedding_dim=256, \n",
        "                 decoder_embedding_dim=128, patch_size=4, num_patches=8,\n",
        "                 mask_ratio=0.75):\n",
        "        super().__init__()\n",
        "        self.encoder_embedding_dim = encoder_embedding_dim\n",
        "        self.decoder_embedding_dim = decoder_embedding_dim\n",
        "        self.patch_size = patch_size\n",
        "        self.num_patches = num_patches\n",
        "        self.mask_ratio = mask_ratio\n",
        "\n",
        "        self.masked_length = int(num_patches * num_patches * mask_ratio)\n",
        "        self.keep_length = num_patches * num_patches - self.masked_length\n",
        "\n",
        "        self.encoder = encoder\n",
        "        self.decoder = decoder\n",
        "\n",
        "        self.encoder_input_projection = nn.Linear(patch_size * patch_size * 3, encoder_embedding_dim)\n",
        "        self.decoder_input_projection = nn.Linear(encoder_embedding_dim, decoder_embedding_dim)\n",
        "        self.decoder_output_projection = nn.Linear(decoder_embedding_dim, patch_size * patch_size * 3)\n",
        "        self.cls_token = nn.Parameter(torch.randn(1, 1, encoder_embedding_dim) * 0.02)\n",
        "        self.encoder_position_encoding = nn.Parameter(torch.randn(1, num_patches * num_patches, encoder_embedding_dim) * 0.02)\n",
        "        self.decoder_position_encoding = nn.Parameter(torch.randn(1, num_patches * num_patches, decoder_embedding_dim) * 0.02)\n",
        "        self.masked_tokens = nn.Parameter(torch.randn(1, 1, decoder_embedding_dim) * 0.02)\n",
        "\n",
        "    def forward_encoder(self, images, ids_shuffle=None):\n",
        "        \"\"\"Encode input images\n",
        "        You should implement the following steps\n",
        "        (1) patchify images into patches\n",
        "        (2) linear projection\n",
        "        (3) add position encoding\n",
        "        (4) mask out some of the patches\n",
        "        (5) concatenate cls_token and patches embedding and pass it to vit encoder\n",
        "        \"\"\"\n",
        "        batch_size = images.shape[0]\n",
        "        # Generate random shuffling indices\n",
        "        if ids_shuffle is None:\n",
        "            ids_shuffle = torch.argsort(\n",
        "                torch.rand(\n",
        "                    (batch_size, self.num_patches * self.num_patches),\n",
        "                    device=images.device\n",
        "                ),\n",
        "                dim=1\n",
        "            )\n",
        "        # BEGIN YOUR CODE\n",
        "        x = patchify(images, self.patch_size)\n",
        "        x = self.encoder_input_projection(x)\n",
        "        # add pos embed w/o cls token\n",
        "        x = x + self.encoder_position_encoding\n",
        "        x, mask, ids_restore = random_masking(x, self.keep_length, ids_shuffle)\n",
        "\n",
        "        # append cls token\n",
        "        cls_tokens = self.cls_token.expand(x.shape[0], -1, -1)\n",
        "        x = torch.cat((cls_tokens, x), dim=1)\n",
        "\n",
        "        # apply Transformer blocks\n",
        "        x = self.encoder(x)\n",
        "\n",
        "        return x, mask, ids_restore\n",
        "        \n",
        "\n",
        "        # END YOUR CODE\n",
        "\n",
        "    def forward_decoder(self, encoder_embeddings, ids_restore):\n",
        "        \"\"\"Decode encoder embeddings\n",
        "        You should implement the following steps\n",
        "        (1) linear projection of encoder embeddings\n",
        "        (2) restore sequence from masked_patches and encoder predictions\n",
        "            We need our decoder output to have the same number of tokens as the original patched input, \n",
        "            but our encoder currently is missing some tokens that we masked out. We need to add some dummy \n",
        "            tokens back to our embedded tokens so when our decoder outputs, it has the correct number of \n",
        "            tokens that can be interpreted as sequential patches of output image.\n",
        "            During this step, you should remove the CLS token from the sequence.\n",
        "        (3) add position encoding\n",
        "        (3) re-concatenate/use CLS token and decode using ViT decoder \n",
        "        (4) projection to predict image patches\n",
        "        \"\"\"\n",
        "        # BEGIN YOUR CODE\n",
        "        x = self.decoder_input_projection(encoder_embeddings)\n",
        "        mask_tokens = self.masked_tokens.repeat(x.shape[0], self.masked_length, 1)\n",
        "        x_restored = restore_masked(x[:, 1:, :], mask_tokens, ids_restore) # remove cls\n",
        "        \n",
        "        x_restored = x_restored + self.decoder_position_encoding\n",
        "        x = torch.cat([x[:, :1, :], x_restored], dim=1)\n",
        "        x = self.decoder(x)\n",
        "\n",
        "        return self.decoder_output_projection(x)[:, 1:, :]\n",
        "        # raise NotImplementedError\n",
        "        # END YOUR CODE\n",
        "\n",
        "    def forward(self, images):\n",
        "        encoder_output, mask, ids_restore = self.forward_encoder(images)\n",
        "        decoder_output = self.forward_decoder(encoder_output, ids_restore)\n",
        "        return decoder_output, mask\n",
        "\n",
        "    def forward_encoder_representation(self, images):\n",
        "        \"\"\"Encode images without applying random masking to get representation\n",
        "        of input images. \n",
        "\n",
        "        You should implement splitting images into patches, re-concatenate/use CLS token,\n",
        "        and encoding with ViT encoder.\n",
        "        \"\"\"\n",
        "        # BEGIN YOUR CODE\n",
        "        batch_size = images.shape[0]\n",
        "        x = patchify(images, self.patch_size)\n",
        "        x = self.encoder_input_projection(x)\n",
        "        # add pos embed w/o cls token\n",
        "        x = x + self.encoder_position_encoding\n",
        "\n",
        "        # append cls token\n",
        "        cls_tokens = self.cls_token.expand(x.shape[0], -1, -1)\n",
        "        x = torch.cat((cls_tokens, x), dim=1)\n",
        "\n",
        "        # apply Transformer blocks\n",
        "        x = self.encoder(x)\n",
        "        return x\n",
        "        raise NotImplementedError\n",
        "        # END YOUR CODE\n",
        "        "
      ]
    },
    {
      "cell_type": "code",
      "execution_count": 198,
      "metadata": {
        "cellView": "form",
        "id": "obJhGP5vfaBl"
      },
      "outputs": [
        {
          "name": "stdout",
          "output_type": "stream",
          "text": [
            "The relative error for MaskedAutoEncoder.forward_encoder: encoder_embeddings is 0.0018993495032191277\n",
            "The relative error for MaskedAutoEncoder.forward_encoder: mask is 0.0\n",
            "The relative error for MaskedAutoEncoder.forward_encoder: ids_restore is 0.0\n",
            "The relative error for MaskedAutoEncoder.forward_decoder is 0.04070407152175903, should be smaller than 0.03\n",
            "The relative error for MaskedAutoEncoder.forward_encoder_representation is 0.012415301986038685, should be smaller than 0.01\n"
          ]
        }
      ],
      "source": [
        "#@title Test your implementation\n",
        "model = MaskedAutoEncoder(\n",
        "    Transformer(embedding_dim=256, n_layers=4),\n",
        "    Transformer(embedding_dim=128, n_layers=2),\n",
        ")\n",
        "\n",
        "model.load_state_dict(test_data['weights']['MaskedAutoEncoder'])\n",
        "images, ids_shuffle = test_data['input']['MaskedAutoEncoder.forward_encoder']\n",
        "encoder_embeddings_t, mask_t, ids_restore_t = test_data['output']['MaskedAutoEncoder.forward_encoder']\n",
        "encoder_embeddings, mask, ids_restore = model.forward_encoder(images, ids_shuffle)\n",
        "\n",
        "check_error(\n",
        "    'MaskedAutoEncoder.forward_encoder: encoder_embeddings',\n",
        "    encoder_embeddings, encoder_embeddings_t, .008\n",
        ")\n",
        "check_error(\n",
        "    'MaskedAutoEncoder.forward_encoder: mask',\n",
        "    mask, mask_t\n",
        ")\n",
        "check_error(\n",
        "    'MaskedAutoEncoder.forward_encoder: ids_restore',\n",
        "    ids_restore, ids_restore_t\n",
        ")\n",
        "\n",
        "encoder_embeddings, ids_restore = test_data['input']['MaskedAutoEncoder.forward_decoder']\n",
        "decoder_output_t = test_data['output']['MaskedAutoEncoder.forward_decoder']\n",
        "decoder_output = model.forward_decoder(encoder_embeddings, ids_restore)\n",
        "check_error(\n",
        "    'MaskedAutoEncoder.forward_decoder',\n",
        "    decoder_output,\n",
        "    decoder_output_t, .03\n",
        ")\n",
        "\n",
        "images = test_data['input']['MaskedAutoEncoder.forward_encoder_representation']\n",
        "encoder_representations_t = test_data['output']['MaskedAutoEncoder.forward_encoder_representation']\n",
        "encoder_representations = model.forward_encoder_representation(images)\n",
        "check_error(\n",
        "    'MaskedAutoEncoder.forward_encoder_representation',\n",
        "    encoder_representations,\n",
        "    encoder_representations_t, .01\n",
        ")\n",
        "\n",
        "\n",
        "\n",
        "model = MaskedAutoEncoder(\n",
        "    Transformer(embedding_dim=256, n_layers=4),\n",
        "    Transformer(embedding_dim=128, n_layers=2),\n",
        ")\n",
        "\n",
        "model.load_state_dict(auto_grader_data['weights']['MaskedAutoEncoder'])\n",
        "images, ids_shuffle = auto_grader_data['input']['MaskedAutoEncoder.forward_encoder']\n",
        "auto_grader_data['output']['MaskedAutoEncoder.forward_encoder'] = model.forward_encoder(\n",
        "    images, ids_shuffle\n",
        ")\n",
        "\n",
        "encoder_embeddings, ids_restore = auto_grader_data['input']['MaskedAutoEncoder.forward_decoder']\n",
        "auto_grader_data['output']['MaskedAutoEncoder.forward_decoder'] = model.forward_decoder(encoder_embeddings, ids_restore)\n",
        "\n",
        "images = auto_grader_data['input']['MaskedAutoEncoder.forward_encoder_representation']\n",
        "auto_grader_data['output']['MaskedAutoEncoder.forward_encoder_representation'] = model.forward_encoder_representation(images)\n",
        "save_auto_grader_data()\n"
      ]
    },
    {
      "cell_type": "markdown",
      "metadata": {
        "id": "t4KO8ZzAOyJ_"
      },
      "source": [
        "### Train Masked Autoencoder"
      ]
    },
    {
      "cell_type": "code",
      "execution_count": 179,
      "metadata": {
        "id": "A3WJB5fLqSbl"
      },
      "outputs": [
        {
          "name": "stderr",
          "output_type": "stream",
          "text": [
            "100%|██████████| 391/391 [00:17<00:00, 22.32it/s, loss=1.36]\n",
            "100%|██████████| 391/391 [00:17<00:00, 22.61it/s, loss=0.984]\n",
            "100%|██████████| 391/391 [00:17<00:00, 22.11it/s, loss=1.05]\n",
            "100%|██████████| 391/391 [00:18<00:00, 21.61it/s, loss=0.954]\n",
            "100%|██████████| 391/391 [00:19<00:00, 20.01it/s, loss=0.856]\n",
            "100%|██████████| 391/391 [00:19<00:00, 19.89it/s, loss=0.79]\n",
            "100%|██████████| 391/391 [00:19<00:00, 19.84it/s, loss=0.693]\n",
            "100%|██████████| 391/391 [00:20<00:00, 19.37it/s, loss=0.67]\n",
            "100%|██████████| 391/391 [00:20<00:00, 18.70it/s, loss=0.548]\n",
            "100%|██████████| 391/391 [00:21<00:00, 18.41it/s, loss=0.659]\n",
            "100%|██████████| 391/391 [00:21<00:00, 18.04it/s, loss=0.566]\n",
            "100%|██████████| 391/391 [00:21<00:00, 17.93it/s, loss=0.561]\n",
            "100%|██████████| 391/391 [00:21<00:00, 17.86it/s, loss=0.606]\n",
            "100%|██████████| 391/391 [00:21<00:00, 17.79it/s, loss=0.636]\n",
            "100%|██████████| 391/391 [00:22<00:00, 17.44it/s, loss=0.573]\n",
            "100%|██████████| 391/391 [00:23<00:00, 16.70it/s, loss=0.556]\n",
            "100%|██████████| 391/391 [00:24<00:00, 16.02it/s, loss=0.529]\n",
            "100%|██████████| 391/391 [00:25<00:00, 15.33it/s, loss=0.619]\n",
            "100%|██████████| 391/391 [00:25<00:00, 15.51it/s, loss=0.546]\n",
            "100%|██████████| 391/391 [00:24<00:00, 15.79it/s, loss=0.481]\n",
            "100%|██████████| 20/20 [07:05<00:00, 21.29s/it]\n"
          ]
        },
        {
          "data": {
            "text/plain": [
              "Text(0.5, 1.0, 'MAE Train Loss')"
            ]
          },
          "execution_count": 179,
          "metadata": {},
          "output_type": "execute_result"
        },
        {
          "data": {
            "image/png": "[encoded data removed]",
            "text/plain": [
              "<Figure size 640x480 with 1 Axes>"
            ]
          },
          "metadata": {},
          "output_type": "display_data"
        }
      ],
      "source": [
        "# Initilize MAE model\n",
        "model = MaskedAutoEncoder(\n",
        "    Transformer(embedding_dim=256, n_layers=4),\n",
        "    Transformer(embedding_dim=128, n_layers=2),\n",
        ")\n",
        "# Move the model to GPU\n",
        "model.to(torch_device)\n",
        "# Create optimizer\n",
        "\n",
        "# You may want to tune these hyperparameters to get better performance\n",
        "optimizer = optim.AdamW(model.parameters(), lr=1e-4, betas=(0.9, 0.95), weight_decay=0.05)\n",
        "\n",
        "total_steps = 0\n",
        "num_epochs = 20\n",
        "train_logfreq = 100\n",
        "\n",
        "losses = []\n",
        "\n",
        "epoch_iterator = td.trange(num_epochs)\n",
        "for epoch in epoch_iterator:\n",
        "    # Train\n",
        "    data_iterator = td.tqdm(trainloader)\n",
        "    for x, y in data_iterator:\n",
        "        total_steps += 1\n",
        "        x = x.to(torch_device)\n",
        "        image_patches = patchify(x)\n",
        "        predicted_patches, mask = model(x)\n",
        "        loss = torch.sum(torch.mean(torch.square(image_patches - predicted_patches), dim=-1) * mask) / mask.sum()\n",
        "        optimizer.zero_grad()\n",
        "        loss.backward()\n",
        "        optimizer.step()\n",
        "\n",
        "        data_iterator.set_postfix(loss=loss.item())\n",
        "        if total_steps % train_logfreq == 0:\n",
        "            losses.append(loss.item())\n",
        "\n",
        "    # Periodically save model\n",
        "    torch.save(model.state_dict(), os.path.join(root_folder, \"mae_pretrained.pt\"))\n",
        "\n",
        "plt.plot(losses)\n",
        "plt.title('MAE Train Loss')"
      ]
    },
    {
      "cell_type": "markdown",
      "metadata": {
        "id": "-UV8dPF8Pw4k"
      },
      "source": [
        "### Use pretrained MAE model for classification\n",
        "\n",
        "As ViT has a class token, to adapt to this design, in our MAE pre-training we append an auxiliary dummy token to the encoder input. This token will be treated as the class token for training the classifier in linear probing and fine-tuning."
      ]
    },
    {
      "cell_type": "code",
      "execution_count": 184,
      "metadata": {
        "id": "QODCykcJS0ec"
      },
      "outputs": [],
      "source": [
        "class ClassificationMAE(nn.Module):\n",
        "    \"\"\"A linear classifier is trained on self-supervised representations learned by MAE. \n",
        "    Args:\n",
        "        n_classes: number of classes\n",
        "        mae: mae model\n",
        "        embedding_dim: embedding dimension of mae output\n",
        "        detach: if True, only the classification head is updated.\n",
        "    \"\"\"\n",
        "    def __init__(self, n_classes, mae, embedding_dim=256, detach=False):\n",
        "        super().__init__()\n",
        "        self.embedding_dim = embedding_dim\n",
        "        self.mae = mae\n",
        "        self.output_head = nn.Sequential(\n",
        "            nn.LayerNorm(embedding_dim), nn.Linear(embedding_dim, n_classes)\n",
        "        )\n",
        "        \"\"\"\n",
        "        When self.detach=True, use linear classification, when self.detach=False,\n",
        "        use full finetuning.\n",
        "        \"\"\"\n",
        "        self.detach = detach\n",
        "\n",
        "    def forward(self, images):\n",
        "        \"\"\"\n",
        "        Args:\n",
        "            Images: batch of images\n",
        "        Returns:\n",
        "            logits: batch of logits from the ouput_head\n",
        "        Remember to detach the representations if self.detach=True, and \n",
        "        Remember that we do not use masking here.\n",
        "        \"\"\"\n",
        "        # BEGIN YOUR CODE\n",
        "        if self.detach:\n",
        "            return self.output_head(self.mae(images))\n",
        "        else:\n",
        "            return self.output_head(self.mae(images))\n",
        "        # raise NotImplementedError\n",
        "        # END YOUR CODE"
      ]
    },
    {
      "cell_type": "code",
      "execution_count": 185,
      "metadata": {
        "cellView": "form",
        "id": "Fi07CiNMt-pX"
      },
      "outputs": [
        {
          "ename": "TypeError",
          "evalue": "layer_norm(): argument 'input' (position 1) must be Tensor, not tuple",
          "output_type": "error",
          "traceback": [
            "\u001b[0;31m---------------------------------------------------------------------------\u001b[0m",
            "\u001b[0;31mTypeError\u001b[0m                                 Traceback (most recent call last)",
            "\u001b[0;32m/tmp/ipykernel_35246/3399182371.py\u001b[0m in \u001b[0;36m<cell line: 12>\u001b[0;34m()\u001b[0m\n\u001b[1;32m     12\u001b[0m check_error(\n\u001b[1;32m     13\u001b[0m     \u001b[0;34m'ClassificationMAE.forward'\u001b[0m\u001b[0;34m,\u001b[0m\u001b[0;34m\u001b[0m\u001b[0;34m\u001b[0m\u001b[0m\n\u001b[0;32m---> 14\u001b[0;31m     \u001b[0mmodel\u001b[0m\u001b[0;34m(\u001b[0m\u001b[0mtest_data\u001b[0m\u001b[0;34m[\u001b[0m\u001b[0;34m'input'\u001b[0m\u001b[0;34m]\u001b[0m\u001b[0;34m[\u001b[0m\u001b[0;34m'ClassificationMAE.forward'\u001b[0m\u001b[0;34m]\u001b[0m\u001b[0;34m)\u001b[0m\u001b[0;34m,\u001b[0m\u001b[0;34m\u001b[0m\u001b[0;34m\u001b[0m\u001b[0m\n\u001b[0m\u001b[1;32m     15\u001b[0m     \u001b[0mtest_data\u001b[0m\u001b[0;34m[\u001b[0m\u001b[0;34m'output'\u001b[0m\u001b[0;34m]\u001b[0m\u001b[0;34m[\u001b[0m\u001b[0;34m'ClassificationMAE.forward'\u001b[0m\u001b[0;34m]\u001b[0m\u001b[0;34m\u001b[0m\u001b[0;34m\u001b[0m\u001b[0m\n\u001b[1;32m     16\u001b[0m )\n",
            "\u001b[0;32m~/anaconda3/envs/deepl/lib/python3.8/site-packages/torch/nn/modules/module.py\u001b[0m in \u001b[0;36m_call_impl\u001b[0;34m(self, *input, **kwargs)\u001b[0m\n\u001b[1;32m   1128\u001b[0m         if not (self._backward_hooks or self._forward_hooks or self._forward_pre_hooks or _global_backward_hooks\n\u001b[1;32m   1129\u001b[0m                 or _global_forward_hooks or _global_forward_pre_hooks):\n\u001b[0;32m-> 1130\u001b[0;31m             \u001b[0;32mreturn\u001b[0m \u001b[0mforward_call\u001b[0m\u001b[0;34m(\u001b[0m\u001b[0;34m*\u001b[0m\u001b[0minput\u001b[0m\u001b[0;34m,\u001b[0m \u001b[0;34m**\u001b[0m\u001b[0mkwargs\u001b[0m\u001b[0;34m)\u001b[0m\u001b[0;34m\u001b[0m\u001b[0;34m\u001b[0m\u001b[0m\n\u001b[0m\u001b[1;32m   1131\u001b[0m         \u001b[0;31m# Do not call functions when jit is used\u001b[0m\u001b[0;34m\u001b[0m\u001b[0;34m\u001b[0m\u001b[0;34m\u001b[0m\u001b[0m\n\u001b[1;32m   1132\u001b[0m         \u001b[0mfull_backward_hooks\u001b[0m\u001b[0;34m,\u001b[0m \u001b[0mnon_full_backward_hooks\u001b[0m \u001b[0;34m=\u001b[0m \u001b[0;34m[\u001b[0m\u001b[0;34m]\u001b[0m\u001b[0;34m,\u001b[0m \u001b[0;34m[\u001b[0m\u001b[0;34m]\u001b[0m\u001b[0;34m\u001b[0m\u001b[0;34m\u001b[0m\u001b[0m\n",
            "\u001b[0;32m/tmp/ipykernel_35246/3794694256.py\u001b[0m in \u001b[0;36mforward\u001b[0;34m(self, images)\u001b[0m\n\u001b[1;32m     33\u001b[0m             \u001b[0;32mreturn\u001b[0m \u001b[0mself\u001b[0m\u001b[0;34m.\u001b[0m\u001b[0moutput_head\u001b[0m\u001b[0;34m(\u001b[0m\u001b[0mself\u001b[0m\u001b[0;34m.\u001b[0m\u001b[0mmae\u001b[0m\u001b[0;34m(\u001b[0m\u001b[0mimages\u001b[0m\u001b[0;34m)\u001b[0m\u001b[0;34m)\u001b[0m\u001b[0;34m\u001b[0m\u001b[0;34m\u001b[0m\u001b[0m\n\u001b[1;32m     34\u001b[0m         \u001b[0;32melse\u001b[0m\u001b[0;34m:\u001b[0m\u001b[0;34m\u001b[0m\u001b[0;34m\u001b[0m\u001b[0m\n\u001b[0;32m---> 35\u001b[0;31m             \u001b[0;32mreturn\u001b[0m \u001b[0mself\u001b[0m\u001b[0;34m.\u001b[0m\u001b[0moutput_head\u001b[0m\u001b[0;34m(\u001b[0m\u001b[0mself\u001b[0m\u001b[0;34m.\u001b[0m\u001b[0mmae\u001b[0m\u001b[0;34m(\u001b[0m\u001b[0mimages\u001b[0m\u001b[0;34m)\u001b[0m\u001b[0;34m)\u001b[0m\u001b[0;34m\u001b[0m\u001b[0;34m\u001b[0m\u001b[0m\n\u001b[0m\u001b[1;32m     36\u001b[0m         \u001b[0;31m# raise NotImplementedError\u001b[0m\u001b[0;34m\u001b[0m\u001b[0;34m\u001b[0m\u001b[0;34m\u001b[0m\u001b[0m\n\u001b[1;32m     37\u001b[0m         \u001b[0;31m# END YOUR CODE\u001b[0m\u001b[0;34m\u001b[0m\u001b[0;34m\u001b[0m\u001b[0;34m\u001b[0m\u001b[0m\n",
            "\u001b[0;32m~/anaconda3/envs/deepl/lib/python3.8/site-packages/torch/nn/modules/module.py\u001b[0m in \u001b[0;36m_call_impl\u001b[0;34m(self, *input, **kwargs)\u001b[0m\n\u001b[1;32m   1128\u001b[0m         if not (self._backward_hooks or self._forward_hooks or self._forward_pre_hooks or _global_backward_hooks\n\u001b[1;32m   1129\u001b[0m                 or _global_forward_hooks or _global_forward_pre_hooks):\n\u001b[0;32m-> 1130\u001b[0;31m             \u001b[0;32mreturn\u001b[0m \u001b[0mforward_call\u001b[0m\u001b[0;34m(\u001b[0m\u001b[0;34m*\u001b[0m\u001b[0minput\u001b[0m\u001b[0;34m,\u001b[0m \u001b[0;34m**\u001b[0m\u001b[0mkwargs\u001b[0m\u001b[0;34m)\u001b[0m\u001b[0;34m\u001b[0m\u001b[0;34m\u001b[0m\u001b[0m\n\u001b[0m\u001b[1;32m   1131\u001b[0m         \u001b[0;31m# Do not call functions when jit is used\u001b[0m\u001b[0;34m\u001b[0m\u001b[0;34m\u001b[0m\u001b[0;34m\u001b[0m\u001b[0m\n\u001b[1;32m   1132\u001b[0m         \u001b[0mfull_backward_hooks\u001b[0m\u001b[0;34m,\u001b[0m \u001b[0mnon_full_backward_hooks\u001b[0m \u001b[0;34m=\u001b[0m \u001b[0;34m[\u001b[0m\u001b[0;34m]\u001b[0m\u001b[0;34m,\u001b[0m \u001b[0;34m[\u001b[0m\u001b[0;34m]\u001b[0m\u001b[0;34m\u001b[0m\u001b[0;34m\u001b[0m\u001b[0m\n",
            "\u001b[0;32m~/anaconda3/envs/deepl/lib/python3.8/site-packages/torch/nn/modules/container.py\u001b[0m in \u001b[0;36mforward\u001b[0;34m(self, input)\u001b[0m\n\u001b[1;32m    137\u001b[0m     \u001b[0;32mdef\u001b[0m \u001b[0mforward\u001b[0m\u001b[0;34m(\u001b[0m\u001b[0mself\u001b[0m\u001b[0;34m,\u001b[0m \u001b[0minput\u001b[0m\u001b[0;34m)\u001b[0m\u001b[0;34m:\u001b[0m\u001b[0;34m\u001b[0m\u001b[0;34m\u001b[0m\u001b[0m\n\u001b[1;32m    138\u001b[0m         \u001b[0;32mfor\u001b[0m \u001b[0mmodule\u001b[0m \u001b[0;32min\u001b[0m \u001b[0mself\u001b[0m\u001b[0;34m:\u001b[0m\u001b[0;34m\u001b[0m\u001b[0;34m\u001b[0m\u001b[0m\n\u001b[0;32m--> 139\u001b[0;31m             \u001b[0minput\u001b[0m \u001b[0;34m=\u001b[0m \u001b[0mmodule\u001b[0m\u001b[0;34m(\u001b[0m\u001b[0minput\u001b[0m\u001b[0;34m)\u001b[0m\u001b[0;34m\u001b[0m\u001b[0;34m\u001b[0m\u001b[0m\n\u001b[0m\u001b[1;32m    140\u001b[0m         \u001b[0;32mreturn\u001b[0m \u001b[0minput\u001b[0m\u001b[0;34m\u001b[0m\u001b[0;34m\u001b[0m\u001b[0m\n\u001b[1;32m    141\u001b[0m \u001b[0;34m\u001b[0m\u001b[0m\n",
            "\u001b[0;32m~/anaconda3/envs/deepl/lib/python3.8/site-packages/torch/nn/modules/module.py\u001b[0m in \u001b[0;36m_call_impl\u001b[0;34m(self, *input, **kwargs)\u001b[0m\n\u001b[1;32m   1128\u001b[0m         if not (self._backward_hooks or self._forward_hooks or self._forward_pre_hooks or _global_backward_hooks\n\u001b[1;32m   1129\u001b[0m                 or _global_forward_hooks or _global_forward_pre_hooks):\n\u001b[0;32m-> 1130\u001b[0;31m             \u001b[0;32mreturn\u001b[0m \u001b[0mforward_call\u001b[0m\u001b[0;34m(\u001b[0m\u001b[0;34m*\u001b[0m\u001b[0minput\u001b[0m\u001b[0;34m,\u001b[0m \u001b[0;34m**\u001b[0m\u001b[0mkwargs\u001b[0m\u001b[0;34m)\u001b[0m\u001b[0;34m\u001b[0m\u001b[0;34m\u001b[0m\u001b[0m\n\u001b[0m\u001b[1;32m   1131\u001b[0m         \u001b[0;31m# Do not call functions when jit is used\u001b[0m\u001b[0;34m\u001b[0m\u001b[0;34m\u001b[0m\u001b[0;34m\u001b[0m\u001b[0m\n\u001b[1;32m   1132\u001b[0m         \u001b[0mfull_backward_hooks\u001b[0m\u001b[0;34m,\u001b[0m \u001b[0mnon_full_backward_hooks\u001b[0m \u001b[0;34m=\u001b[0m \u001b[0;34m[\u001b[0m\u001b[0;34m]\u001b[0m\u001b[0;34m,\u001b[0m \u001b[0;34m[\u001b[0m\u001b[0;34m]\u001b[0m\u001b[0;34m\u001b[0m\u001b[0;34m\u001b[0m\u001b[0m\n",
            "\u001b[0;32m~/anaconda3/envs/deepl/lib/python3.8/site-packages/torch/nn/modules/normalization.py\u001b[0m in \u001b[0;36mforward\u001b[0;34m(self, input)\u001b[0m\n\u001b[1;32m    187\u001b[0m \u001b[0;34m\u001b[0m\u001b[0m\n\u001b[1;32m    188\u001b[0m     \u001b[0;32mdef\u001b[0m \u001b[0mforward\u001b[0m\u001b[0;34m(\u001b[0m\u001b[0mself\u001b[0m\u001b[0;34m,\u001b[0m \u001b[0minput\u001b[0m\u001b[0;34m:\u001b[0m \u001b[0mTensor\u001b[0m\u001b[0;34m)\u001b[0m \u001b[0;34m->\u001b[0m \u001b[0mTensor\u001b[0m\u001b[0;34m:\u001b[0m\u001b[0;34m\u001b[0m\u001b[0;34m\u001b[0m\u001b[0m\n\u001b[0;32m--> 189\u001b[0;31m         return F.layer_norm(\n\u001b[0m\u001b[1;32m    190\u001b[0m             input, self.normalized_shape, self.weight, self.bias, self.eps)\n\u001b[1;32m    191\u001b[0m \u001b[0;34m\u001b[0m\u001b[0m\n",
            "\u001b[0;32m~/anaconda3/envs/deepl/lib/python3.8/site-packages/torch/nn/functional.py\u001b[0m in \u001b[0;36mlayer_norm\u001b[0;34m(input, normalized_shape, weight, bias, eps)\u001b[0m\n\u001b[1;32m   2501\u001b[0m             \u001b[0mlayer_norm\u001b[0m\u001b[0;34m,\u001b[0m \u001b[0;34m(\u001b[0m\u001b[0minput\u001b[0m\u001b[0;34m,\u001b[0m \u001b[0mweight\u001b[0m\u001b[0;34m,\u001b[0m \u001b[0mbias\u001b[0m\u001b[0;34m)\u001b[0m\u001b[0;34m,\u001b[0m \u001b[0minput\u001b[0m\u001b[0;34m,\u001b[0m \u001b[0mnormalized_shape\u001b[0m\u001b[0;34m,\u001b[0m \u001b[0mweight\u001b[0m\u001b[0;34m=\u001b[0m\u001b[0mweight\u001b[0m\u001b[0;34m,\u001b[0m \u001b[0mbias\u001b[0m\u001b[0;34m=\u001b[0m\u001b[0mbias\u001b[0m\u001b[0;34m,\u001b[0m \u001b[0meps\u001b[0m\u001b[0;34m=\u001b[0m\u001b[0meps\u001b[0m\u001b[0;34m\u001b[0m\u001b[0;34m\u001b[0m\u001b[0m\n\u001b[1;32m   2502\u001b[0m         )\n\u001b[0;32m-> 2503\u001b[0;31m     \u001b[0;32mreturn\u001b[0m \u001b[0mtorch\u001b[0m\u001b[0;34m.\u001b[0m\u001b[0mlayer_norm\u001b[0m\u001b[0;34m(\u001b[0m\u001b[0minput\u001b[0m\u001b[0;34m,\u001b[0m \u001b[0mnormalized_shape\u001b[0m\u001b[0;34m,\u001b[0m \u001b[0mweight\u001b[0m\u001b[0;34m,\u001b[0m \u001b[0mbias\u001b[0m\u001b[0;34m,\u001b[0m \u001b[0meps\u001b[0m\u001b[0;34m,\u001b[0m \u001b[0mtorch\u001b[0m\u001b[0;34m.\u001b[0m\u001b[0mbackends\u001b[0m\u001b[0;34m.\u001b[0m\u001b[0mcudnn\u001b[0m\u001b[0;34m.\u001b[0m\u001b[0menabled\u001b[0m\u001b[0;34m)\u001b[0m\u001b[0;34m\u001b[0m\u001b[0;34m\u001b[0m\u001b[0m\n\u001b[0m\u001b[1;32m   2504\u001b[0m \u001b[0;34m\u001b[0m\u001b[0m\n\u001b[1;32m   2505\u001b[0m \u001b[0;34m\u001b[0m\u001b[0m\n",
            "\u001b[0;31mTypeError\u001b[0m: layer_norm(): argument 'input' (position 1) must be Tensor, not tuple"
          ]
        }
      ],
      "source": [
        "#@title Test your implementation\n",
        "model = ClassificationMAE(\n",
        "    10,\n",
        "    MaskedAutoEncoder(\n",
        "        Transformer(embedding_dim=256, n_layers=4),\n",
        "        Transformer(embedding_dim=128, n_layers=2),\n",
        "    )\n",
        ")\n",
        "\n",
        "model.load_state_dict(test_data['weights']['ClassificationMAE'])\n",
        "\n",
        "check_error(\n",
        "    'ClassificationMAE.forward',\n",
        "    model(test_data['input']['ClassificationMAE.forward']),\n",
        "    test_data['output']['ClassificationMAE.forward']\n",
        ")\n",
        "\n",
        "model = ClassificationMAE(\n",
        "    10,\n",
        "    MaskedAutoEncoder(\n",
        "        Transformer(embedding_dim=256, n_layers=4),\n",
        "        Transformer(embedding_dim=128, n_layers=2),\n",
        "    )\n",
        ")\n",
        "\n",
        "model.load_state_dict(auto_grader_data['weights']['ClassificationMAE'])\n",
        "auto_grader_data['output']['ClassificationMAE.forward'] = model(\n",
        "    auto_grader_data['input']['ClassificationMAE.forward']\n",
        ")\n",
        "save_auto_grader_data()"
      ]
    },
    {
      "cell_type": "markdown",
      "metadata": {
        "id": "0gnCcwGlVJ-g"
      },
      "source": [
        "### Load the pretrained MAE model"
      ]
    },
    {
      "cell_type": "code",
      "execution_count": null,
      "metadata": {
        "id": "DdQEIE_yYuJF"
      },
      "outputs": [],
      "source": [
        "mae = MaskedAutoEncoder(\n",
        "    Transformer(embedding_dim=256, n_layers=4),\n",
        "    Transformer(embedding_dim=128, n_layers=2),\n",
        ")\n",
        "mae.load_state_dict(torch.load(os.path.join(root_folder, \"mae_pretrained.pt\")))"
      ]
    },
    {
      "cell_type": "markdown",
      "metadata": {
        "id": "AyLwLC6VPz2Y"
      },
      "source": [
        "### Linear Classification\n",
        "\n",
        "A linear classifier is trained on self-supervised representations learned by MAE. "
      ]
    },
    {
      "cell_type": "code",
      "execution_count": null,
      "metadata": {
        "id": "KdPfl0MJrfng"
      },
      "outputs": [],
      "source": [
        "# Initilize classification model; set detach=True to only update the linear classifier. \n",
        "model = ClassificationMAE(10, mae, detach=True)\n",
        "model.to(torch_device)\n",
        "\n",
        "# You may want to tune these hyperparameters to get better performance\n",
        "optimizer = optim.AdamW(model.parameters(), lr=1e-4, betas=(0.9, 0.95), weight_decay=1e-9)\n",
        "\n",
        "total_steps = 0\n",
        "num_epochs = 20\n",
        "train_logfreq = 100\n",
        "losses = []\n",
        "train_acc = []\n",
        "all_val_acc = []\n",
        "best_val_acc = 0\n",
        "\n",
        "epoch_iterator = trange(num_epochs)\n",
        "for epoch in epoch_iterator:\n",
        "    # Train\n",
        "    data_iterator = tqdm(trainloader)\n",
        "    for x, y in data_iterator:\n",
        "        total_steps += 1\n",
        "        x, y = x.to(torch_device), y.to(torch_device)\n",
        "        logits = model(x)\n",
        "        loss = torch.mean(F.cross_entropy(logits, y))\n",
        "        accuracy = torch.mean((torch.argmax(logits, dim=-1) == y).float())\n",
        "        optimizer.zero_grad()\n",
        "        loss.backward()\n",
        "        optimizer.step()\n",
        "\n",
        "        data_iterator.set_postfix(loss=loss.item(), train_acc=accuracy.item())\n",
        "\n",
        "        if total_steps % train_logfreq == 0:\n",
        "            losses.append(loss.item())\n",
        "            train_acc.append(accuracy.item())\n",
        "\n",
        "    # Validation\n",
        "    val_acc = []\n",
        "    model.eval()\n",
        "    for x, y in testloader:\n",
        "        x, y = x.to(torch_device), y.to(torch_device)\n",
        "        with torch.no_grad():\n",
        "          logits = model(x)\n",
        "        accuracy = torch.mean((torch.argmax(logits, dim=-1) == y).float())\n",
        "        val_acc.append(accuracy.item())\n",
        "\n",
        "    model.train()\n",
        "\n",
        "    all_val_acc.append(np.mean(val_acc))\n",
        "\n",
        "    # Save best model\n",
        "    if np.mean(val_acc) > best_val_acc:\n",
        "        best_val_acc = np.mean(val_acc)\n",
        "\n",
        "    epoch_iterator.set_postfix(val_acc=np.mean(val_acc), best_val_acc=best_val_acc)\n",
        "\n",
        "plt.plot(losses)\n",
        "plt.title('Linear Classification Train Loss')\n",
        "plt.figure()\n",
        "plt.plot(train_acc)\n",
        "plt.title('Linear Classification Train Accuracy')\n",
        "plt.figure()\n",
        "plt.plot(all_val_acc)\n",
        "plt.title('Linear Classification Val Accuracy')"
      ]
    },
    {
      "cell_type": "code",
      "execution_count": null,
      "metadata": {
        "cellView": "form",
        "id": "RwXyr42cDYr3"
      },
      "outputs": [],
      "source": [
        "#@title Test your implementation, your accuracy should be greater than 30%\n",
        "auto_grader_data['output']['mae_linear_acc'] = best_val_acc\n",
        "save_auto_grader_data()\n",
        "check_acc(best_val_acc, threshold=0.30)"
      ]
    },
    {
      "cell_type": "markdown",
      "metadata": {
        "id": "frkTBj1wQo_R"
      },
      "source": [
        "### Full Finetuning\n",
        "\n",
        "A linear classifer and the pretrained MAE model are jointly updated."
      ]
    },
    {
      "cell_type": "code",
      "execution_count": null,
      "metadata": {
        "id": "dGTMdBgci8PW"
      },
      "outputs": [],
      "source": [
        "# Initilize classification model; set detach=False to update both the linear classifier and pretrained MAE model.\n",
        "model = ClassificationMAE(10, mae, detach=False)\n",
        "model.to(torch_device)\n",
        "\n",
        "# You may want to tune these hyperparameters to get better performance\n",
        "optimizer = optim.AdamW(model.parameters(), lr=1e-4, betas=(0.9, 0.95), weight_decay=1e-9)\n",
        "\n",
        "total_steps = 0\n",
        "num_epochs = 20\n",
        "train_logfreq = 100\n",
        "losses = []\n",
        "train_acc = []\n",
        "all_val_acc = []\n",
        "best_val_acc = 0\n",
        "\n",
        "epoch_iterator = trange(num_epochs)\n",
        "for epoch in epoch_iterator:\n",
        "    # Train\n",
        "    data_iterator = tqdm(trainloader)\n",
        "    for x, y in data_iterator:\n",
        "        total_steps += 1\n",
        "        x, y = x.to(torch_device), y.to(torch_device)\n",
        "        logits = model(x)\n",
        "        loss = torch.mean(F.cross_entropy(logits, y))\n",
        "        accuracy = torch.mean((torch.argmax(logits, dim=-1) == y).float())\n",
        "        optimizer.zero_grad()\n",
        "        loss.backward()\n",
        "        optimizer.step()\n",
        "\n",
        "        data_iterator.set_postfix(loss=loss.item(), train_acc=accuracy.item())\n",
        "\n",
        "        if total_steps % train_logfreq == 0:\n",
        "            losses.append(loss.item())\n",
        "            train_acc.append(accuracy.item())\n",
        "\n",
        "    # Validation\n",
        "    val_acc = []\n",
        "    model.eval()\n",
        "    for x, y in testloader:\n",
        "        x, y = x.to(torch_device), y.to(torch_device)\n",
        "        with torch.no_grad():\n",
        "          logits = model(x)\n",
        "        accuracy = torch.mean((torch.argmax(logits, dim=-1) == y).float())\n",
        "        val_acc.append(accuracy.item())\n",
        "    model.train()\n",
        "\n",
        "    all_val_acc.append(np.mean(val_acc))\n",
        "\n",
        "    # Save best model\n",
        "    if np.mean(val_acc) > best_val_acc:\n",
        "        best_val_acc = np.mean(val_acc)\n",
        "\n",
        "    epoch_iterator.set_postfix(val_acc=np.mean(val_acc), best_val_acc=best_val_acc)\n",
        "\n",
        "plt.plot(losses)\n",
        "plt.title('Finetune Classification Train Loss')\n",
        "plt.figure()\n",
        "plt.plot(train_acc)\n",
        "plt.title('Finetune Classification Train Accuracy')\n",
        "plt.figure()\n",
        "plt.plot(all_val_acc)\n",
        "plt.title('Finetune Classification Val Accuracy')"
      ]
    },
    {
      "cell_type": "code",
      "execution_count": null,
      "metadata": {
        "cellView": "form",
        "id": "Q9k0Ca7MDSFP"
      },
      "outputs": [],
      "source": [
        "#@title Test your implementation, your accuracy should be greater than 70%\n",
        "auto_grader_data['output']['mae_finetune_acc'] = best_val_acc\n",
        "save_auto_grader_data()\n",
        "check_acc(best_val_acc, threshold=0.70)"
      ]
    },
    {
      "cell_type": "markdown",
      "metadata": {
        "id": "b3i2FR3LQ7hz"
      },
      "source": [
        "## Prepare Gradescope submission\n",
        "\n",
        "**NOTE:** change the following path to your ```root_dir``` in the begining.\n",
        "\n",
        "Run the following cell will automatically prepare and download ```hw9_submission.zip```.\n",
        "\n",
        "Upload the downloaded file to Gradescope.\n",
        "The Gradescope will run an autograder on the files you submit. \n",
        "\n",
        "It is very unlikely but still possible that your implementation might fail to pass some test cases due to randomness.\n",
        "If you think your code is correct, you can simply rerun the autograder to check check whether it is really due to randomness."
      ]
    },
    {
      "cell_type": "code",
      "execution_count": 200,
      "metadata": {
        "id": "NFzRCAcMBu5G"
      },
      "outputs": [
        {
          "name": "stdout",
          "output_type": "stream",
          "text": [
            "[Errno 2] No such file or directory: 'root_folder'\n",
            "/home/cleverctz/berkeley/cs182_deeplearning/hw9/hw9\n",
            "/home/cleverctz/berkeley/cs182_deeplearning/data\n",
            "\tzip warning: name not matched: *.ipynb\n",
            "updating: autograder.pt (deflated 8%)\n"
          ]
        }
      ],
      "source": [
        "%cd root_folder\n",
        "!pwd # make sure we are in the right dir\n",
        "\n",
        "# !rm hw9_submission.zip\n",
        "!zip hw9_submission.zip -r *.ipynb autograder.pt\n",
        "\n",
        "# from google.colab import files\n",
        "# files.download('hw9_submission.zip') "
      ]
    },
    {
      "cell_type": "code",
      "execution_count": null,
      "metadata": {
        "id": "RhpgPtiIzDU1"
      },
      "outputs": [],
      "source": []
    }
  ],
  "metadata": {
    "accelerator": "GPU",
    "colab": {
      "collapsed_sections": [],
      "provenance": []
    },
    "kernelspec": {
      "display_name": "Python 3.8.13 ('deepl')",
      "language": "python",
      "name": "python3"
    },
    "language_info": {
      "codemirror_mode": {
        "name": "ipython",
        "version": 3
      },
      "file_extension": ".py",
      "mimetype": "text/x-python",
      "name": "python",
      "nbconvert_exporter": "python",
      "pygments_lexer": "ipython3",
      "version": "3.8.13"
    },
    "vscode": {
      "interpreter": {
        "hash": "b96b90247f779626951b155c9e3e4da59f738405f5787b96ce19716c3bf6bd5b"
      }
    }
  },
  "nbformat": 4,
  "nbformat_minor": 0
}
