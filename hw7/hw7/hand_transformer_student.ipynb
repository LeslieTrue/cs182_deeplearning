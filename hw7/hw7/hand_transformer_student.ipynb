{
 "cells": [
  {
   "cell_type": "markdown",
   "metadata": {},
   "source": [
    "# Imports\n",
    "\n",
    "You may need to install the packages in the requirements.txt file. This does not require a GPU, so if you are using colab, you can select the \"Runtime\" -> \"Change runtime type\" menu and select \"None\" as the hardware accelerator.\n",
    "\n",
    "** Note** The same variables get defined in different ways in different subparts. If you get an error saying that a variable is the wrong shape or a function is missing an argument, make sure you have re-run the cells in that problem subpart."
   ]
  },
  {
   "cell_type": "code",
   "execution_count": 1,
   "metadata": {},
   "outputs": [],
   "source": [
    "# Import numpy and torch\n",
    "import numpy as np\n",
    "import torch\n",
    "import torch.nn as nn\n",
    "import math\n",
    "import random\n",
    "import matplotlib.pyplot as plt\n",
    "plt.rcParams['figure.figsize'] = [20, 5]  # Adjust this to make plots bigger or smaller\n"
   ]
  },
  {
   "cell_type": "markdown",
   "metadata": {},
   "source": [
    "# Learning Goals:\n",
    "\n",
    "* Implement a simple transformer model from scratch so you can understand how it works.\n",
    "* Hand-design a transformer model to solve a simple task so you can understand the kinds of operations which a transformer can perform.\n",
    "* Visualize the attention patterns of a learned network to see how learned models often use very different features from humans."
   ]
  },
  {
   "cell_type": "markdown",
   "metadata": {},
   "source": [
    "# (A): Implementing a Very Simple Transformer\n",
    "\n",
    "We've already provided a simple transformer implementation in numpy in the cell below. There are a lot of common features of transformers which are not included here! You'll implement a more realistic transformer on HW 7.\n",
    "\n",
    "* The transformer is only a single layer and a single head.\n",
    "* There are no residual connections.\n",
    "* There is no normalization or dropout.\n",
    "* We concatenate the positional encoding rather than adding it to the inputs.\n",
    "* There are no activation functions or MLP layers.\n",
    "* The transformer does not support masking or batching.\n",
    "\n",
    "To check your understanding, implement a PyTorch equivalent model. You don't need to include the printing and plotting code in the Numpy version. Consider implementing a batched version of the attention operation - i.e. calculate all attention scores at once, not by looping over keys. (This is not required, but it should run faster and will help you understand the attention mechanism better since you can't directly translate it from the Numpy version.) Make sure your implementation passes the tests in the cell below."
   ]
  },
  {
   "cell_type": "markdown",
   "metadata": {},
   "source": [
    "### Helper functions (you don't need to modify these or understand them in depth)"
   ]
  },
  {
   "cell_type": "code",
   "execution_count": 2,
   "metadata": {},
   "outputs": [],
   "source": [
    "def rescale_and_plot(arr, title='', ax=None, x_lab=None, y_lab=None):\n",
    "    \"\"\"Rescale input array to be between 0 and 1, then plot it\"\"\"\n",
    "    arr = (arr - arr.min())\n",
    "    if arr.max() > 0:\n",
    "        arr = arr / arr.max()\n",
    "    ax.imshow(arr)\n",
    "    ax.set_title(title)\n",
    "    ax.set_xticks([])\n",
    "    ax.set_yticks([])\n",
    "    if x_lab is not None:\n",
    "        ax.set_xlabel(x_lab)\n",
    "    if y_lab is not None:\n",
    "        ax.set_ylabel(y_lab)\n",
    "\n",
    "\n",
    "def train_loop(make_batch, input_dim, qk_dim, v_dim, pos_dim=None, max_seq_len=None, remove_cls=False, num_epochs=10001, lr=3e-2):\n",
    "    transformer = PytorchTransformer(input_dim, qk_dim, v_dim, pos_dim, max_seq_len)\n",
    "    optimizer = torch.optim.SGD(transformer.parameters(), lr=lr)\n",
    "    loss_fn = nn.MSELoss()\n",
    "    for i in range(num_epochs):\n",
    "        seq, target = make_batch()\n",
    "        optimizer.zero_grad()\n",
    "        out = transformer(seq)\n",
    "        # If remove_cls is True, remove the first item of the sequence (the CLS token)\n",
    "        if remove_cls:\n",
    "            out = out[1:]\n",
    "        loss = loss_fn(out, target)\n",
    "        loss.backward()\n",
    "        optimizer.step()\n",
    "        if i % 1000 == 0:\n",
    "            print(f'Step {i}: loss {loss.item()}')\n",
    "    return transformer, loss.item()\n",
    "\n",
    "def compare_transformers(hand_transformer, learned_transformer, seq):\n",
    "    # Print the learned matrices\n",
    "    # Rescale each weight matrix to be between 0 and 1, then plot them\n",
    "    print('=' * 40, ' Hand Designed ', '=' * 40)\n",
    "    out_hand = hand_transformer.forward(seq, verbose=False, plot=True)\n",
    "    \n",
    "    # Copy weights from the learned transformer to the hand transformer\n",
    "    # so we can run the hand transformer's forward pass, with the plotting code\n",
    "    py_Km = learned_transformer.Km.weight.T.detach().numpy()\n",
    "    py_Qm = learned_transformer.Qm.weight.T.detach().numpy()\n",
    "    py_Vm = learned_transformer.Vm.weight.T.detach().numpy()\n",
    "    # positional encodings, if they exist\n",
    "    if learned_transformer.pos is not None:\n",
    "        py_pos = learned_transformer.pos.weight.detach().numpy()\n",
    "    else:\n",
    "        py_pos = None\n",
    "\n",
    "    print('=' * 40, '   Learned   ', '=' * 40)\n",
    "    np_learned_transformer = NumpyTransformer(py_Km, py_Qm, py_Vm, py_pos)\n",
    "    out_learned = np_learned_transformer.forward(seq, verbose=False, plot=True)\n",
    "    return out_hand, out_learned\n",
    "\n",
    "# Test the numpy transformer and pytorch transformer to make sure they give the same results\n",
    "def test():\n",
    "    min_seq_len = 1\n",
    "    max_seq_len = 4\n",
    "    qk_dim = np.random.randint(1, 5)\n",
    "    v_dim = np.random.randint(1, 5)\n",
    "    in_dim = 5\n",
    "    for i in range(10):\n",
    "        # Randomly sample the matrices\n",
    "        Km = np.random.randn(in_dim, qk_dim)\n",
    "        Qm = np.random.randn(in_dim, qk_dim)\n",
    "        Vm = np.random.randn(in_dim, v_dim)\n",
    "        if i > 4:\n",
    "            # Sometimes, don't use positional encodings\n",
    "            pos = pos_dim = None\n",
    "            seq_dim = in_dim\n",
    "        else:\n",
    "            pos_dim = np.random.randint(2, 4)\n",
    "            pos = np.random.randn(max_seq_len, pos_dim)\n",
    "            seq_dim = in_dim - pos_dim\n",
    "            \n",
    "        # Randomly sample the sequence\n",
    "        seq = np.random.randn(np.random.randint(min_seq_len, max_seq_len + 1), seq_dim)\n",
    "        # Get the numpy transformer output\n",
    "        out_np = NumpyTransformer(Km, Qm, Vm, pos).forward(seq, verbose=False)\n",
    "        # Create a pytorch transformer and fill the weights with the numpy matrices\n",
    "        transformer = PytorchTransformer(seq_dim, qk_dim, v_dim, pos_dim, max_seq_len)\n",
    "        state_dict = transformer.state_dict()\n",
    "        # Replace the weights with the numpy matrices\n",
    "        state_dict['Km.weight'] = torch.FloatTensor(Km.T)\n",
    "        state_dict['Qm.weight'] = torch.FloatTensor(Qm.T)\n",
    "        state_dict['Vm.weight'] = torch.FloatTensor(Vm.T)\n",
    "        if pos is not None:\n",
    "            state_dict['pos.weight'] = torch.FloatTensor(pos)\n",
    "        transformer.load_state_dict(state_dict)\n",
    "        # Get the pytorch transformer output\n",
    "        out_py = transformer(torch.FloatTensor(seq)).detach().numpy()\n",
    "        # Compare the outputs\n",
    "        if not np.allclose(out_np, out_py, atol=1e-5):\n",
    "            print('ERROR!!')\n",
    "            print('Numpy output', out_np)\n",
    "            print('Pytorch output', out_py)\n",
    "            print('Difference', out_np - out_py)\n",
    "            raise ValueError('Numpy and Pytorch outputs do not match')\n",
    "    print('All done!')"
   ]
  },
  {
   "cell_type": "markdown",
   "metadata": {},
   "source": [
    "### Transformer class (you need to implement this)"
   ]
  },
  {
   "cell_type": "code",
   "execution_count": 3,
   "metadata": {},
   "outputs": [
    {
     "name": "stdout",
     "output_type": "stream",
     "text": [
      "All done!\n"
     ]
    }
   ],
   "source": [
    "class NumpyTransformer:\n",
    "    def __init__(self, Km, Qm, Vm, pos=None):\n",
    "        \"\"\"\n",
    "        # Km, Qm, Vm are the matrices that will be used to compute the attention\n",
    "        # Km and Qm are size (input_dim + pos_dim, qk_dim), and Vm is (input_dim + pos_dim, v_dim).\n",
    "        # pos is an array of positional encodings of shape (max_seq_len, pos_dim) that will be concatenated to the input sequence\n",
    "        \"\"\"\n",
    "        self.Km = Km\n",
    "        self.Qm = Qm\n",
    "        self.Vm = Vm\n",
    "        self.pos = pos\n",
    "        self.qk_dim = Qm.shape[1]\n",
    "        \n",
    "    def forward(self, seq, verbose=False, plot=False):\n",
    "        # seq is a numpy array of shape (seq_len, input_dim). There is no batch dimension.\n",
    "        \n",
    "        # Concatenate positional encodings if they are provided\n",
    "        # print('org seq is', seq.shape)\n",
    "        if self.pos is not None:\n",
    "            seq = np.concatenate([seq, self.pos[:seq.shape[0]]], axis=-1)\n",
    "        # print('seq is', seq.shape)\n",
    "        # print(\"k is \", self.Km.shape)\n",
    "        # print('Q is', self.Qm.shape)\n",
    "        # print('V is', self.Vm.shape)\n",
    "        K = seq @ self.Km # seq_len x qk_dim\n",
    "        Q = seq @ self.Qm # seq_len x qk_dim\n",
    "        V = seq @ self.Vm # seq_len x v_dim\n",
    "\n",
    "        if verbose:\n",
    "            print('Keys', K.tolist())\n",
    "            print('Queries', Q.tolist())\n",
    "            print('Values', V.tolist())\n",
    "        if plot:\n",
    "            fig, axs = plt.subplots(nrows=1,ncols=8)\n",
    "            fig.tight_layout()\n",
    "            rescale_and_plot(self.Km.T, 'Km', axs[0], x_lab='d_i', y_lab='d_qk')\n",
    "            rescale_and_plot(self.Qm.T, 'Qm', axs[1], x_lab='d_i', y_lab='d_qk')\n",
    "            rescale_and_plot(self.Vm.T, 'Vm', axs[2], x_lab='d_i', y_lab='d_v')\n",
    "            \n",
    "            rescale_and_plot(K.T, 'K', axs[3], x_lab='seq', y_lab='d_qk')\n",
    "            rescale_and_plot(Q.T, 'Q', axs[4], x_lab='seq', y_lab='d_qk')\n",
    "            rescale_and_plot(V.T, 'V', axs[5], x_lab='seq', y_lab='d_v')\n",
    "            \n",
    "        outputs = []\n",
    "        attn_weights = []\n",
    "        # Compute attention\n",
    "        for i, q in enumerate(Q):\n",
    "            if verbose: print(f'Item {i}: Computing attention for query {q}')\n",
    "            dot = K @ q\n",
    "            if verbose: print('  Dot products between the query and each key:', dot)\n",
    "            # Divide by sqrt(qk_dim)\n",
    "            dot = dot / np.sqrt(self.qk_dim)\n",
    "            # Softmax function\n",
    "            softmax_dot = np.exp(dot) / np.sum(np.exp(dot), axis=-1, keepdims=True)\n",
    "            if verbose: print('  Weighting score for each value:', softmax_dot)\n",
    "            attn_weights.append(softmax_dot)\n",
    "            out_i = softmax_dot @ V\n",
    "            if verbose: print('  New sequence item', out_i)\n",
    "            outputs.append(out_i)\n",
    "        if plot:\n",
    "            rescale_and_plot(np.array(attn_weights).T, 'Attn', axs[6], x_lab='Q', y_lab='K')\n",
    "            rescale_and_plot(np.array(outputs).T, 'Out', axs[7], x_lab='seq', y_lab='d_v')\n",
    "            plt.show()\n",
    "            \n",
    "        # Return the output sequence (seq_len, output_dim)\n",
    "        return np.array(outputs)\n",
    "    \n",
    "class PytorchTransformer(nn.Module):\n",
    "    def __init__(self, input_dim, qk_dim, v_dim, pos_dim=None, max_seq_len=10):\n",
    "        super().__init__()\n",
    "        if pos_dim is not None:\n",
    "            self.pos = nn.Embedding(max_seq_len, pos_dim)\n",
    "        else:\n",
    "            self.pos = None\n",
    "        in_dim = input_dim\n",
    "        if pos_dim is not None:\n",
    "            in_dim += pos_dim\n",
    "        self.Km = nn.Linear(in_dim, qk_dim, bias=False)\n",
    "        self.Qm = nn.Linear(in_dim, qk_dim, bias=False)\n",
    "        self.Vm = nn.Linear(in_dim, v_dim, bias=False)\n",
    "        self.in_dim = in_dim\n",
    "        self.d_k = qk_dim\n",
    "        self.out_dim = v_dim\n",
    "        \n",
    "    def forward(self, seq):\n",
    "        # seq is a numpy array of shape (seq_len, input_dim). There is no batch dimension.\n",
    "        # print(len(seq.shape))\n",
    "        if len(seq.shape) > 2:\n",
    "            seq = torch.squeeze(seq)\n",
    "        if len(seq.shape) < 2:\n",
    "            seq = seq[None]\n",
    "        # print(seq)\n",
    "        # seq = torch.LongTensor(se)\n",
    "        # Concatenate positional encodings if they are provided\n",
    "        \n",
    "        if self.pos is not None:\n",
    "            seq = torch.cat([seq, self.pos.weight[:seq.shape[0]]], axis=-1)\n",
    "        # assert seq_len == self.in_dim\n",
    "        # (seq_len, input_dim) = seq.shape\n",
    "        K = self.Km(seq) # seq_len x qk_dim\n",
    "        Q = self.Qm(seq) # seq_len x qk_dim\n",
    "        V = self.Vm(seq) # seq_len x v_dim\n",
    "        # print('K is', K.shape)\n",
    "        # print('Q is', Q.shape)\n",
    "        # print('V is', V.shape)\n",
    "        # print('seq is', seq.shape)\n",
    "        # print('seq_len is', seq.shape[0])\n",
    "        # print('qk_dim is', self.d_k)\n",
    "        # print('v dim is', self.out_dim)\n",
    "        # print(seq)\n",
    "        # assert K.shape == (seq.shape[0], self.d_k)\n",
    "        # assert Q.shape == (seq.shape[0], self.d_k)\n",
    "        outputs = torch.zeros((seq.shape[0], self.out_dim))\n",
    "        attn_weights = []\n",
    "        # Compute attention\n",
    "        for i, q in enumerate(Q):\n",
    "            dot = K @ q\n",
    "            # if verbose: print('  Dot products between the query and each key:', dot)\n",
    "            # Divide by sqrt(qk_dim)\n",
    "            dot = dot / np.sqrt(self.d_k)\n",
    "            # Softmax function\n",
    "            softmax_dot = torch.exp(dot) / torch.sum(torch.exp(dot), axis=-1, keepdims=True)\n",
    "            # if verbose: print('  Weighting score for each value:', softmax_dot)\n",
    "            attn_weights.append(softmax_dot)\n",
    "            out_i = softmax_dot @ V\n",
    "            # if verbose: print('  New sequence item', out_i)\n",
    "            outputs[i] = out_i\n",
    "        # Return the output sequence (seq_len, output_dim)\n",
    "        return outputs\n",
    "    \n",
    "test()    "
   ]
  },
  {
   "cell_type": "markdown",
   "metadata": {},
   "source": [
    "# (B) Self-Attention Operation: Attending by Content\n",
    "\n",
    "Transformers can decide what other tokens to attend to by looking at the content of the tokens. In this section, we'll explore how this works by hand-implementing a transformer which gets applied to a variable-length sequence in which each token is a one-hot vector.\n",
    "\n",
    "The function we will learn is the identity operation (i.e. the output is the same as the input). Choose values for Km, Qm, and Vm to implement this.\n",
    "\n",
    "\\# Example data points (in each case, A, B, and C are vectors): \\\n",
    "Input sequence --> Output sequence \\\n",
    "[A, B, C, C] --> [A, B, C, C] \\\n",
    "[C, A, C] --> [C, A, C] \\\n",
    "[B, B, C] --> [B, B, C]\n",
    "\n",
    "\n",
    "Once the test cases pass, run the training loop below a few times to train the PyTorch model. Comment on the similarities and differences between the weights and intermediate outputs of the learned and hand-coded model. (Note: the plotting function rescales the range to 0, 1. It's fine to compare the relative values of weights/outputs between the two models (e.g. say \"both attend most strongly to X\"), without comparing the absolute values.)"
   ]
  },
  {
   "cell_type": "code",
   "execution_count": 4,
   "metadata": {},
   "outputs": [
    {
     "name": "stdout",
     "output_type": "stream",
     "text": [
      "==================== Hint 1 ====================\n",
      "Selecting index 0 [9.99753241e-01 1.23379352e-04 1.23379352e-04]\n",
      "Selecting index 1 [3.35334911e-04 9.99619282e-01 4.53826452e-05]\n",
      "==================== Hint 2 ====================\n",
      "Selecting index 0 [9.99954602e-01 4.53978687e-05]\n",
      "Selecting index 1 [0.00669285 0.99330715]\n"
     ]
    }
   ],
   "source": [
    "# Hints (feel free to ignore this block if it's not useful)\n",
    "\n",
    "# Hint 1: If you want to attend to one particular element, make sure its pre-softmax score is much larger than the other elements. \n",
    "softmax = lambda x: np.exp(x) / np.sum(np.exp(x), axis=-1, keepdims=True)\n",
    "print('='*20, 'Hint 1', '='*20)\n",
    "print('Selecting index 0', softmax(np.array([9, 0, 0])))\n",
    "print('Selecting index 1', softmax(np.array([-3, 5, -5])))\n",
    "\n",
    "# Hint 2: It's easier to attend to a particular element if the keys are orthogonal.\n",
    "print('='*20, 'Hint 2', '='*20)\n",
    "keys = np.array([[2, 0], [0, 1]])  # Orthogonal\n",
    "q = np.array([5, 0])\n",
    "print('Selecting index 0', softmax(q @ keys))\n",
    "q = np.array([0, 5])\n",
    "print('Selecting index 1', softmax(q @ keys))\n",
    "\n",
    "# Hint 3: You can use the following helper functions to test what keys, queries, and values would be produced by your matrix for each valid sequence element.\n",
    "#  Km, Qm, Vm, and are the matrices you will define below.\n",
    "all_token_seq = np.eye(3)  # Each row is a sequence element. The identity corresponds to [A, B, C].\n",
    "get_K = lambda Km: all_token_seq @ Km # Each row of the output is a key\n",
    "get_Q = lambda Qm: all_token_seq @ Qm # Each row of the output is a query\n",
    "get_V = lambda Vm: all_token_seq @ Vm # Each row of the output is a value\n",
    "\n",
    "# Hint 4: Use the softmax function defined above to test what softmax scores you'd get for different attention weights.\n",
    "\n",
    "# Hint 5: If there are repeated elements in a sequence with the same content, rather than attenting to one particular element, it will be easier to\n",
    "# attend to all of them. Since they have the same content, when you take a \"weighted average\" over values weighted by attention scores you'll get the\n",
    "# same output as you'd get if you attended to a single one.\n"
   ]
  },
  {
   "cell_type": "code",
   "execution_count": 5,
   "metadata": {},
   "outputs": [
    {
     "name": "stdout",
     "output_type": "stream",
     "text": [
      "[[9. 0. 0.]\n",
      " [0. 9. 0.]\n",
      " [0. 0. 9.]] [[9. 0. 0.]\n",
      " [0. 9. 0.]\n",
      " [0. 0. 9.]] [[1. 0. 0.]\n",
      " [0. 1. 0.]\n",
      " [0. 0. 1.]]\n"
     ]
    }
   ],
   "source": [
    "\n",
    "# Tokens\n",
    "A = np.array([1,0,0])\n",
    "B = np.array([0,1,0])\n",
    "C = np.array([0,0,1])\n",
    "tokens = [A, B, C]\n",
    "\n",
    "################################################################################################\n",
    "# TODO: Implement numpy arrays for Km, Qm, and Vm.\n",
    "#      The dimensions should be (input_dim, qk_dim), (input_dim, qk_dim), and (input_dim, v_dim)\n",
    "#      In this case, input_dim = 3, and v_dim = 3. qk_dim can be any value you choose, but 3 is\n",
    "#      a reasonable choice.\n",
    "#################################################################################################\n",
    "Km = np.array([[9.,0.,0.],[0.,9.,0.],[0.,0.,9.]])\n",
    "Qm = np.array([[9.,0.,0.],[0.,9.,0.],[0.,0.,9.]])\n",
    "Vm = np.array([[1.,0.,0.],[0.,1.,0.],[0.,0.,1.]])\n",
    "print(Km, Qm, Vm)\n",
    "############################################ END OF YOUR CODE ####################################\n",
    "Km, Qm, Vm = get_K(Km), get_Q(Qm), get_V(Vm)\n",
    "def generate_test_cases_identity(tokens, max_len=7):\n",
    "    seq_len = np.random.randint(1, max_len)\n",
    "    input_arr = np.stack(random.choices(tokens, k=seq_len))\n",
    "    expected_out = input_arr\n",
    "    return input_arr, expected_out\n",
    "\n",
    "# Test your implementation\n",
    "for i in range(10):\n",
    "    seq, expected_out = generate_test_cases_identity(tokens)\n",
    "    np_transformer = NumpyTransformer(Km, Qm, Vm)\n",
    "    out = np_transformer.forward(seq, verbose=False)  # Change this to True to see the attention computation\n",
    "    if not np.allclose(out, expected_out, atol=.1):\n",
    "        print(f'FAIL: {seq} -> {out} != {expected_out}')\n"
   ]
  },
  {
   "cell_type": "code",
   "execution_count": 6,
   "metadata": {},
   "outputs": [
    {
     "name": "stdout",
     "output_type": "stream",
     "text": [
      "Step 0: loss 0.4139789342880249\n"
     ]
    },
    {
     "name": "stderr",
     "output_type": "stream",
     "text": [
      "/home/cleverctz/anaconda3/envs/deepl/lib/python3.8/site-packages/torch/nn/modules/loss.py:530: UserWarning: Using a target size (torch.Size([1, 4, 3])) that is different to the input size (torch.Size([4, 3])). This will likely lead to incorrect results due to broadcasting. Please ensure they have the same size.\n",
      "  return F.mse_loss(input, target, reduction=self.reduction)\n",
      "/home/cleverctz/anaconda3/envs/deepl/lib/python3.8/site-packages/torch/nn/modules/loss.py:530: UserWarning: Using a target size (torch.Size([1, 3, 3])) that is different to the input size (torch.Size([3, 3])). This will likely lead to incorrect results due to broadcasting. Please ensure they have the same size.\n",
      "  return F.mse_loss(input, target, reduction=self.reduction)\n",
      "/home/cleverctz/anaconda3/envs/deepl/lib/python3.8/site-packages/torch/nn/modules/loss.py:530: UserWarning: Using a target size (torch.Size([1, 2, 3])) that is different to the input size (torch.Size([2, 3])). This will likely lead to incorrect results due to broadcasting. Please ensure they have the same size.\n",
      "  return F.mse_loss(input, target, reduction=self.reduction)\n",
      "/home/cleverctz/anaconda3/envs/deepl/lib/python3.8/site-packages/torch/nn/modules/loss.py:530: UserWarning: Using a target size (torch.Size([1, 5, 3])) that is different to the input size (torch.Size([5, 3])). This will likely lead to incorrect results due to broadcasting. Please ensure they have the same size.\n",
      "  return F.mse_loss(input, target, reduction=self.reduction)\n",
      "/home/cleverctz/anaconda3/envs/deepl/lib/python3.8/site-packages/torch/nn/modules/loss.py:530: UserWarning: Using a target size (torch.Size([1, 1, 3])) that is different to the input size (torch.Size([1, 3])). This will likely lead to incorrect results due to broadcasting. Please ensure they have the same size.\n",
      "  return F.mse_loss(input, target, reduction=self.reduction)\n",
      "/home/cleverctz/anaconda3/envs/deepl/lib/python3.8/site-packages/torch/nn/modules/loss.py:530: UserWarning: Using a target size (torch.Size([1, 6, 3])) that is different to the input size (torch.Size([6, 3])). This will likely lead to incorrect results due to broadcasting. Please ensure they have the same size.\n",
      "  return F.mse_loss(input, target, reduction=self.reduction)\n"
     ]
    },
    {
     "name": "stdout",
     "output_type": "stream",
     "text": [
      "Step 1000: loss 0.14446578919887543\n",
      "Step 2000: loss 0.11750143021345139\n",
      "Step 3000: loss 0.047645602375268936\n",
      "Step 4000: loss 0.0020077864173799753\n",
      "Step 5000: loss 0.0021083864849060774\n",
      "Step 6000: loss 0.00406732177361846\n",
      "Step 7000: loss 0.003444056259468198\n",
      "Step 8000: loss 0.0010435545118525624\n",
      "Step 9000: loss 0.0006379818660207093\n",
      "Step 10000: loss 0.00023271789541468024\n",
      "========================================  Hand Designed  ========================================\n"
     ]
    },
    {
     "data": {
      "image/png": "[encoded data removed]",
      "text/plain": [
       "<Figure size 2000x500 with 8 Axes>"
      ]
     },
     "metadata": {},
     "output_type": "display_data"
    },
    {
     "name": "stdout",
     "output_type": "stream",
     "text": [
      "========================================    Learned    ========================================\n"
     ]
    },
    {
     "data": {
      "image/png": "[encoded data removed]",
      "text/plain": [
       "<Figure size 2000x500 with 8 Axes>"
      ]
     },
     "metadata": {},
     "output_type": "display_data"
    },
    {
     "data": {
      "text/plain": [
       "(array([[1.00000000e+00, 9.79686395e-21, 9.79686395e-21],\n",
       "        [2.44921599e-21, 1.00000000e+00, 4.89843197e-21],\n",
       "        [2.44921599e-21, 1.00000000e+00, 4.89843197e-21],\n",
       "        [2.44921599e-21, 4.89843197e-21, 1.00000000e+00],\n",
       "        [2.44921599e-21, 4.89843197e-21, 1.00000000e+00]]),\n",
       " array([[ 0.90659596,  0.05680395,  0.03659973],\n",
       "        [-0.00121689,  0.98756306,  0.01365381],\n",
       "        [-0.00121689,  0.98756306,  0.01365381],\n",
       "        [-0.00225375,  0.01691063,  0.98534347],\n",
       "        [-0.00225375,  0.01691063,  0.98534347]]))"
      ]
     },
     "execution_count": 6,
     "metadata": {},
     "output_type": "execute_result"
    }
   ],
   "source": [
    "# Compare the hand-designed and trained transformers\n",
    "def make_batch_identity(tokens=tokens, max_len=7):\n",
    "    seq, target = generate_test_cases_identity(tokens, max_len=max_len)\n",
    "    return torch.FloatTensor(seq).unsqueeze(0), torch.FloatTensor(target).unsqueeze(0)\n",
    "\n",
    "A = np.array([1,0,0])\n",
    "B = np.array([0,1,0])\n",
    "C = np.array([0,0,1])\n",
    "\n",
    "transformer_py, loss = train_loop(make_batch_identity, input_dim=len(A), qk_dim=Km.shape[1], v_dim=Vm.shape[1])\n",
    "seq = np.stack([A, B, B, C, C])\n",
    "seq.squeeze()\n",
    "compare_transformers(np_transformer, transformer_py, seq)  # If the plots don't print correctly, re-run this cell"
   ]
  },
  {
   "cell_type": "markdown",
   "metadata": {},
   "source": [
    "# (C) Self-Attention Operation: Attending by Position\n",
    "\n",
    "Transformers can decide what other tokens to attend to by looking at the positions of the tokens. In this section, we'll explore how this works by designing a transformer for the following task: given a sequence of tokens, copy the first token across the entire sequence.\n",
    "\n",
    "To do this, we'll add a positional encoding to the input sequence. Transformers typically use a sinusoidal positional encoding or a learned positional encoding. We'll use a 'learned' positional encoding (though in this case we are setting the weights by hand, so you can set the weight to whatever you want).\n",
    "\n",
    "These positional encodings will get concatenated to the input sequence inside the transformer.\n",
    "\n",
    "\\# Example data points (in each case, A, B, and C are vectors. A:pos_0 represents concatenation between vectors A and pos_0): \\\n",
    "Input sequence --> Input sequence with pos encoding --> Output sequence \\\n",
    "[A, B, C, C] --> [A:pos_0, B:pos_1, C:pos_2, C:pos_3] --> [A, A, A, A] \\\n",
    "[C, A, C] --> [C:pos_0, A:pos_1, C:pos_2] --> [C, C, C] \\\n",
    "[B, B, C] --> [B:pos_0, B:pos_1, C:pos_2] --> [B, B, B]\n",
    "\n",
    "Typically, these positional encodings are added to the input embeddings. In this case, for simplicity we'll concatenate the positional encoding to the input embeddings instead.\n",
    "\n",
    "Once the test cases pass, run the training loop below a few times to train the PyTorch model. Comment on the similarities and differences between the weights and intermediate outputs of the learned and hand-coded model."
   ]
  },
  {
   "cell_type": "code",
   "execution_count": 7,
   "metadata": {},
   "outputs": [
    {
     "name": "stdout",
     "output_type": "stream",
     "text": [
      "Selecting only the first and last vector elements [[1 3]]\n"
     ]
    }
   ],
   "source": [
    "# Hints (feel free to ignore this block if it's not useful) \n",
    "\n",
    "# Hint 1: All hints from the previous part still apply.\n",
    "\n",
    "# Hint 2: If you only want to use part of the information in a sequence element, choose key/query/value matrices which remove the unwanted information.\n",
    "seq = np.array([[1, 2, 3]]) # A sequence of length 1 with a 3-dimensional element\n",
    "Qm = np.array([[1, 0], [0, 0], [0, 1]])\n",
    "print('Selecting only the first and last vector elements', seq @ Qm)\n",
    "\n",
    "# Hint 3: You can use the following helper functions to test what keys, queries, and values would be produced by your matrix.\n",
    "# You will need to provide a sequence (e.g. np.stack([A, B, C])). Km, Qm, Vm, and pos are the matrices you will define below.\n",
    "get_K = lambda seq: np.concatenate([seq, pos[:seq.shape[0]]], axis=1) @ Km # Each row of the output is a key\n",
    "get_Q = lambda seq: np.concatenate([seq, pos[:seq.shape[0]]], axis=1) @ Qm # Each row of the output is a query\n",
    "get_V = lambda seq: np.concatenate([seq, pos[:seq.shape[0]]], axis=1) @ Vm # Each row of the output is a value\n"
   ]
  },
  {
   "cell_type": "code",
   "execution_count": 46,
   "metadata": {},
   "outputs": [],
   "source": [
    "A = np.array([1,0,0])\n",
    "B = np.array([0,1,0])\n",
    "C = np.array([0,0,1])\n",
    "\n",
    "tokens = [A, B, C]\n",
    "\n",
    "################################################################################################\n",
    "# TODO: Implement numpy arrays for Km, Qm, and Vm and pos.\n",
    "#      The dimensions of Km, and Qm are (input_dim + pos_dim, qk_dim).\n",
    "#      The dimensions of Vm are (input_dim + pos_dim, v_dim).\n",
    "#      The dimensions of pos are (max_len, pos_dim). (Each row is a position vector.)\n",
    "#      In this case, input_dim = 3, and v_dim = 3. qk_dim can be any value you choose, but 1 is\n",
    "#      a reasonable choice. max_len is the maximum sequence length you will encounter, 4 in this case.\n",
    "#      pos_dim can be any value you choose, but 4 is a resonable choice.\n",
    "#################################################################################################\n",
    "\n",
    "pos = np.array([[1, .05, -.025, -.025], [0, 0, 0, 0], [0, 0, 0, 0], [0, 0, 0, 0]])\n",
    "Km = np.array([[9],[9],[9],[9],[9],[9],[9]])\n",
    "Qm = np.array([[6],[6],[6],[6],[6],[6],[6]])\n",
    "Vm = np.array([[1, 0, 0],[0, 1, 0],[0, 0, 1],[0, 0, 0],[1, 0, 1],[1, 1, 0],[0, 1, 1]])\n",
    "############################################ END OF YOUR CODE ####################################\n",
    "\n",
    "\n",
    "def generate_test_cases_first(tokens, max_len=5):\n",
    "    seq_len = np.random.randint(1, max_len)\n",
    "    input_arr = np.stack(random.choices(tokens, k=seq_len))\n",
    "    # Expected output is to repeat the first row of the input k times\n",
    "    expected_out = np.stack([input_arr[0]] * seq_len)\n",
    "    return input_arr, expected_out\n",
    "\n",
    "\n",
    "for i in range(10):\n",
    "    seq, expected_out = generate_test_cases_first([A, B, C])\n",
    "    np_transformer = NumpyTransformer(Km, Qm, Vm, pos=pos)\n",
    "    out = np_transformer.forward(seq, verbose=False)  # Change this to True to see the attention computation\n",
    "    if not np.allclose(out, expected_out, atol=.1):\n",
    "        print(f'FAIL: {seq} -> {out} != {expected_out}')\n",
    "\n"
   ]
  },
  {
   "cell_type": "code",
   "execution_count": 47,
   "metadata": {},
   "outputs": [
    {
     "name": "stdout",
     "output_type": "stream",
     "text": [
      "Step 0: loss 0.30754220485687256\n",
      "Step 1000: loss 0.07036926597356796\n",
      "Step 2000: loss 0.07233837991952896\n",
      "Step 3000: loss 0.002502183662727475\n",
      "Step 4000: loss 0.00017987494356930256\n",
      "Step 5000: loss 0.00010358672443544492\n",
      "Step 6000: loss 0.0007520006620325148\n",
      "Step 7000: loss 0.00012486378545872867\n",
      "Step 8000: loss 0.00015035113028716296\n",
      "Step 9000: loss 2.749625673459377e-05\n",
      "Step 10000: loss 6.927669164724648e-05\n",
      "========================================  Hand Designed  ========================================\n"
     ]
    },
    {
     "data": {
      "image/png": "[encoded data removed]",
      "text/plain": [
       "<Figure size 2000x500 with 8 Axes>"
      ]
     },
     "metadata": {},
     "output_type": "display_data"
    },
    {
     "name": "stdout",
     "output_type": "stream",
     "text": [
      "========================================    Learned    ========================================\n"
     ]
    },
    {
     "data": {
      "image/png": "[encoded data removed]",
      "text/plain": [
       "<Figure size 2000x500 with 8 Axes>"
      ]
     },
     "metadata": {},
     "output_type": "display_data"
    },
    {
     "name": "stdout",
     "output_type": "stream",
     "text": [
      "Out (Hand designed) \n",
      " [[ 1.03 -0.05  0.02]\n",
      " [ 1.03 -0.05  0.02]\n",
      " [ 1.03 -0.05  0.02]]\n",
      " Out (Learned) \n",
      " [[ 1.   -0.   -0.  ]\n",
      " [ 0.98  0.02 -0.  ]\n",
      " [ 0.97  0.03 -0.01]]\n"
     ]
    }
   ],
   "source": [
    "# Compare the numpy and trained pytorch transformers\n",
    "def make_batch_first(tokens=tokens, max_len=5):\n",
    "    seq, target = generate_test_cases_first(tokens, max_len=max_len)\n",
    "    return torch.FloatTensor(seq), torch.FloatTensor(target)\n",
    "\n",
    "pos_dim = pos.shape[1]\n",
    "transformer_py, loss = train_loop(make_batch_first, input_dim=len(A), qk_dim=Km.shape[1], v_dim=Vm.shape[1], pos_dim=pos_dim, max_seq_len=pos.shape[0])\n",
    "seq = np.stack([A, B, B])\n",
    "out_np, out_py = compare_transformers(np_transformer, transformer_py, seq)\n",
    "print(f'Out (Hand designed) \\n {np.round(out_np, 2)}')\n",
    "print(f' Out (Learned) \\n {np.round(out_py, 2)}')"
   ]
  },
  {
   "cell_type": "markdown",
   "metadata": {},
   "source": [
    "# [Optional] (D) Self-Attention Operation: Selecting by Position and Content\n",
    "\n",
    "Finally, we'll explore how transformers can attend to tokens by looking at both their position and their content. In this section, we'll design a transformer for the following task: given a sequence of tokens, output a positive number for every unique token and a negative number for every repeated token.\n",
    "\n",
    "To make implementing this easier, we'll add a CLS token to the beginning of the sequence. We will ignore the output of the CLS token index, which means we can use the CLS token to represent whatever we want. (In practice, the CLS token is often thought of as a representation of the entire sequence, but you can use it however is useful.)\n",
    "\n",
    "\n",
    "\\# Example data points (in each case, A, B, and C are vectors. A:pos_0 represents concatenation between vectors A and pos_0. The target outputs shown are +/-1, but any number with the right sign is fine. \"Ignore\" means that the output can be anything and will not be used to compute the loss.): \\\n",
    "Input sequence --> Input sequence with CLS and pos encoding --> Output sequence \\\n",
    "[A, B, C, C] --> [CLS: pos_0, A:pos_1, B:pos_2, C:pos_3, C:pos_4] --> [Ignore, 1, 1, -1, -1] \\\n",
    "[C, A, C] --> [CLS: pos_0, C:pos_1, A:pos_2, C:pos_3] --> [Ignore, -1, 1, 1] \\\n",
    "[B, B, C] --> [CLS: pos_0, B:pos_1, B:pos_2, C:pos_3] --> [Ignore, -1, -1, 1]\n",
    "\n",
    "\n",
    "Once the test cases pass, run the training loop below a few times to train the PyTorch model. Comment on the similarities and differences between the weights and intermediate outputs of the learned and hand-coded model."
   ]
  },
  {
   "cell_type": "code",
   "execution_count": 10,
   "metadata": {},
   "outputs": [],
   "source": [
    "A = np.array([1,0,0,0])\n",
    "B = np.array([0,1,0,0])\n",
    "C = np.array([0,0,1,0])\n",
    "CLS = np.array([0,0,0,1])\n",
    "\n",
    "tokens = [A, B, C]"
   ]
  },
  {
   "cell_type": "code",
   "execution_count": 11,
   "metadata": {},
   "outputs": [],
   "source": [
    "# Hints (feel free to ignore this block if it's not useful) \n",
    "\n",
    "# Hint 1: All hints from the previous part still apply.\n",
    "\n",
    "# Hint 2: To check if an array is unique, use what you discovered in the \"select by content\" part to find rows with the same value and \n",
    "# what you learned in the \"select by position\" part to NOT select the key which comes from the same position as the query.\n",
    "\n",
    "# Hint 3: If you need an offset value, consider using the CLS token The CLS token is the first token in a sequence, and it is orthogonal\n",
    "# to all other tokens. This means you can create a query or value which selects it but not any othe token (e.g. by putting 0s in all \n",
    "# indexes except the index where only CLS has a 1).\n",
    "\n",
    "# Hint 4: You can use the following helper functions to test what keys, queries, and values would be produced by your matrix.\n",
    "# You will need to provide a sequence (e.g. np.stack([A, B, C])). Km, Qm, Vm, and pos are the matrices you will define below.\n",
    "get_K = lambda seq: np.concatenate([np.stack([CLS] + list(seq)), pos[:seq.shape[0]+1]], axis=1) @ Km # Each row of the output is a key\n",
    "get_Q = lambda seq: np.concatenate([np.stack([CLS] + list(seq)), pos[:seq.shape[0]+1]], axis=1) @ Qm # Each row of the output is a query\n",
    "get_V = lambda seq: np.concatenate([np.stack([CLS] + list(seq)), pos[:seq.shape[0]+1]], axis=1) @ Vm # Each row of the output is a value\n"
   ]
  },
  {
   "cell_type": "code",
   "execution_count": 12,
   "metadata": {},
   "outputs": [
    {
     "ename": "ValueError",
     "evalue": "matmul: Input operand 1 has a mismatch in its core dimension 0, with gufunc signature (n?,k),(k,m?)->(n?,m?) (size 7 is different from 8)",
     "output_type": "error",
     "traceback": [
      "\u001b[0;31m---------------------------------------------------------------------------\u001b[0m",
      "\u001b[0;31mValueError\u001b[0m                                Traceback (most recent call last)",
      "\u001b[0;32m/tmp/ipykernel_14574/3597296397.py\u001b[0m in \u001b[0;36m<cell line: 24>\u001b[0;34m()\u001b[0m\n\u001b[1;32m     25\u001b[0m     \u001b[0mseq\u001b[0m\u001b[0;34m,\u001b[0m \u001b[0mexpected_out\u001b[0m \u001b[0;34m=\u001b[0m \u001b[0mgenerate_test_cases_unique\u001b[0m\u001b[0;34m(\u001b[0m\u001b[0;34m[\u001b[0m\u001b[0mA\u001b[0m\u001b[0;34m,\u001b[0m \u001b[0mB\u001b[0m\u001b[0;34m,\u001b[0m \u001b[0mC\u001b[0m\u001b[0;34m]\u001b[0m\u001b[0;34m)\u001b[0m\u001b[0;34m\u001b[0m\u001b[0;34m\u001b[0m\u001b[0m\n\u001b[1;32m     26\u001b[0m     \u001b[0mnp_transformer\u001b[0m \u001b[0;34m=\u001b[0m \u001b[0mNumpyTransformer\u001b[0m\u001b[0;34m(\u001b[0m\u001b[0mKm\u001b[0m\u001b[0;34m,\u001b[0m \u001b[0mQm\u001b[0m\u001b[0;34m,\u001b[0m \u001b[0mVm\u001b[0m\u001b[0;34m,\u001b[0m \u001b[0mpos\u001b[0m\u001b[0;34m)\u001b[0m\u001b[0;34m\u001b[0m\u001b[0;34m\u001b[0m\u001b[0m\n\u001b[0;32m---> 27\u001b[0;31m     \u001b[0mout\u001b[0m \u001b[0;34m=\u001b[0m \u001b[0mnp_transformer\u001b[0m\u001b[0;34m.\u001b[0m\u001b[0mforward\u001b[0m\u001b[0;34m(\u001b[0m\u001b[0mseq\u001b[0m\u001b[0;34m,\u001b[0m \u001b[0mverbose\u001b[0m\u001b[0;34m=\u001b[0m\u001b[0;32mFalse\u001b[0m\u001b[0;34m)\u001b[0m  \u001b[0;31m# Change this to True to see the attention computation\u001b[0m\u001b[0;34m\u001b[0m\u001b[0;34m\u001b[0m\u001b[0m\n\u001b[0m\u001b[1;32m     28\u001b[0m     \u001b[0;32mif\u001b[0m \u001b[0;32mnot\u001b[0m \u001b[0mnp\u001b[0m\u001b[0;34m.\u001b[0m\u001b[0mallclose\u001b[0m\u001b[0;34m(\u001b[0m\u001b[0mnp\u001b[0m\u001b[0;34m.\u001b[0m\u001b[0msign\u001b[0m\u001b[0;34m(\u001b[0m\u001b[0mout\u001b[0m\u001b[0;34m[\u001b[0m\u001b[0;36m1\u001b[0m\u001b[0;34m:\u001b[0m\u001b[0;34m]\u001b[0m\u001b[0;34m)\u001b[0m\u001b[0;34m,\u001b[0m \u001b[0mexpected_out\u001b[0m\u001b[0;34m,\u001b[0m \u001b[0matol\u001b[0m\u001b[0;34m=\u001b[0m\u001b[0;36m.1\u001b[0m\u001b[0;34m)\u001b[0m\u001b[0;34m:\u001b[0m\u001b[0;34m\u001b[0m\u001b[0;34m\u001b[0m\u001b[0m\n\u001b[1;32m     29\u001b[0m         \u001b[0mprint\u001b[0m\u001b[0;34m(\u001b[0m\u001b[0;34mf'FAIL: {seq} -> {np.sign(out[1:])} != {expected_out}'\u001b[0m\u001b[0;34m)\u001b[0m\u001b[0;34m\u001b[0m\u001b[0;34m\u001b[0m\u001b[0m\n",
      "\u001b[0;32m/tmp/ipykernel_14574/736858257.py\u001b[0m in \u001b[0;36mforward\u001b[0;34m(self, seq, verbose, plot)\u001b[0m\n\u001b[1;32m     23\u001b[0m         \u001b[0;31m# print('Q is', self.Qm.shape)\u001b[0m\u001b[0;34m\u001b[0m\u001b[0;34m\u001b[0m\u001b[0;34m\u001b[0m\u001b[0m\n\u001b[1;32m     24\u001b[0m         \u001b[0;31m# print('V is', self.Vm.shape)\u001b[0m\u001b[0;34m\u001b[0m\u001b[0;34m\u001b[0m\u001b[0;34m\u001b[0m\u001b[0m\n\u001b[0;32m---> 25\u001b[0;31m         \u001b[0mK\u001b[0m \u001b[0;34m=\u001b[0m \u001b[0mseq\u001b[0m \u001b[0;34m@\u001b[0m \u001b[0mself\u001b[0m\u001b[0;34m.\u001b[0m\u001b[0mKm\u001b[0m \u001b[0;31m# seq_len x qk_dim\u001b[0m\u001b[0;34m\u001b[0m\u001b[0;34m\u001b[0m\u001b[0m\n\u001b[0m\u001b[1;32m     26\u001b[0m         \u001b[0mQ\u001b[0m \u001b[0;34m=\u001b[0m \u001b[0mseq\u001b[0m \u001b[0;34m@\u001b[0m \u001b[0mself\u001b[0m\u001b[0;34m.\u001b[0m\u001b[0mQm\u001b[0m \u001b[0;31m# seq_len x qk_dim\u001b[0m\u001b[0;34m\u001b[0m\u001b[0;34m\u001b[0m\u001b[0m\n\u001b[1;32m     27\u001b[0m         \u001b[0mV\u001b[0m \u001b[0;34m=\u001b[0m \u001b[0mseq\u001b[0m \u001b[0;34m@\u001b[0m \u001b[0mself\u001b[0m\u001b[0;34m.\u001b[0m\u001b[0mVm\u001b[0m \u001b[0;31m# seq_len x v_dim\u001b[0m\u001b[0;34m\u001b[0m\u001b[0;34m\u001b[0m\u001b[0m\n",
      "\u001b[0;31mValueError\u001b[0m: matmul: Input operand 1 has a mismatch in its core dimension 0, with gufunc signature (n?,k),(k,m?)->(n?,m?) (size 7 is different from 8)"
     ]
    }
   ],
   "source": [
    "\n",
    "################################################################################################\n",
    "# TODO: Implement numpy arrays for Km, Qm, and Vm and pos.\n",
    "#      The dimensions of Km, and Qm are (input_dim + pos_dim, qk_dim).\n",
    "#      The dimensions of Vm are (input_dim + pos_dim, v_dim).\n",
    "#      The dimensions of pos are (max_len + 1, pos_dim). (Each row is a position vector.)\n",
    "#      In this case, input_dim = 4, and v_dim = 1. qk_dim can be any value you choose, but 8 is\n",
    "#      a reasonable choice. max_len is the maximum sequence length you will encounter (before CLS is added),\n",
    "#      4 in this case.  pos_dim can be any value you choose, but 4 is a reasonable choice.\n",
    "#################################################################################################\n",
    "\n",
    "############################################ END OF YOUR CODE ####################################\n",
    "\n",
    "def generate_test_cases_unique(tokens, max_len=5):\n",
    "    seq_len = np.random.randint(1, max_len)\n",
    "    input_arr = np.stack(random.choices(tokens, k=seq_len))\n",
    "    # Expected output is 1 for unique, -1 for non-unique\n",
    "    expected_out = np.stack([1 if np.sum(np.min(input_arr == x, axis=1)) == 1 else -1 for x in input_arr]).reshape(-1, 1)\n",
    "    # Insert CLS token as the first token in the sequence\n",
    "    input_arr = np.stack([CLS] + list(input_arr))\n",
    "    return input_arr, expected_out\n",
    "\n",
    "seq, expected_out = generate_test_cases_unique([A, B, C])\n",
    "\n",
    "for i in range(1):\n",
    "    seq, expected_out = generate_test_cases_unique([A, B, C])\n",
    "    np_transformer = NumpyTransformer(Km, Qm, Vm, pos)\n",
    "    out = np_transformer.forward(seq, verbose=False)  # Change this to True to see the attention computation\n",
    "    if not np.allclose(np.sign(out[1:]), expected_out, atol=.1):\n",
    "        print(f'FAIL: {seq} -> {np.sign(out[1:])} != {expected_out}')\n"
   ]
  },
  {
   "cell_type": "code",
   "execution_count": null,
   "metadata": {},
   "outputs": [
    {
     "name": "stdout",
     "output_type": "stream",
     "text": [
      "Step 0: loss 1.306623101234436\n",
      "Step 1000: loss 1.0388542413711548\n",
      "Step 2000: loss 0.45778796076774597\n",
      "Step 3000: loss 0.40186887979507446\n",
      "Step 4000: loss 0.1301518678665161\n",
      "Step 5000: loss 0.15481506288051605\n",
      "Step 6000: loss 0.038022950291633606\n",
      "Step 7000: loss 0.0024105096235871315\n",
      "Step 8000: loss 0.006559297442436218\n",
      "Step 9000: loss 0.01687362603843212\n",
      "Step 10000: loss 0.002265977207571268\n",
      "========================================  Hand Designed  ========================================\n"
     ]
    },
    {
     "data": {
      "image/png": "[encoded data removed]",
      "text/plain": [
       "<Figure size 2000x500 with 8 Axes>"
      ]
     },
     "metadata": {},
     "output_type": "display_data"
    },
    {
     "name": "stdout",
     "output_type": "stream",
     "text": [
      "========================================    Learned    ========================================\n"
     ]
    },
    {
     "data": {
      "image/png": "[encoded data removed]",
      "text/plain": [
       "<Figure size 2000x500 with 8 Axes>"
      ]
     },
     "metadata": {},
     "output_type": "display_data"
    },
    {
     "data": {
      "image/png": "[encoded data removed]",
      "text/plain": [
       "<Figure size 1000x500 with 3 Axes>"
      ]
     },
     "metadata": {},
     "output_type": "display_data"
    }
   ],
   "source": [
    "# Compare the numpy and trained pytorch transformers\n",
    "# Note that the pytorch transformer has a slightly harder task since it is being trained to output exactly 1 or -1, not just the sign.\n",
    "def make_batch_unique(tokens=tokens, max_len=5):\n",
    "    seq, target = generate_test_cases_unique(tokens, max_len=max_len)\n",
    "    return torch.FloatTensor(seq), torch.FloatTensor(target)\n",
    "\n",
    "pos_dim = pos.shape[1]\n",
    "transformer_py, loss = train_loop(make_batch_unique, input_dim=len(A), qk_dim=Km.shape[1], v_dim=Vm.shape[1], pos_dim=pos_dim, max_seq_len=pos.shape[0], remove_cls=True)\n",
    "seq = np.stack([CLS, A, B, C, C])\n",
    "expected_out = np.stack([1, 1, -1, -1]).reshape(-1, 1)\n",
    "out_npy, out_pyt = compare_transformers(np_transformer, transformer_py, seq)\n",
    "out_npy = np.sign(out_npy[1:])\n",
    "out_pyt = np.sign(out_pyt[1:])\n",
    "\n",
    "# Since the CLS token is visualized above and is not part of the sequence, we remove it here.\n",
    "# We also take the sign of the output to directly compare it to the expected output.\n",
    "plt.figure(figsize=(10, 5))\n",
    "plt.subplot(1, 3, 1)\n",
    "plt.imshow(out_npy.T, vmin=-1, vmax=1)\n",
    "plt.title('Hand-Designed Transformer')\n",
    "plt.xticks([])\n",
    "plt.yticks([])\n",
    "plt.xlabel('Sequence')\n",
    "plt.ylabel('Output')\n",
    "plt.subplot(1, 3, 2)\n",
    "plt.imshow(out_pyt.T, vmin=-1, vmax=1)\n",
    "plt.title('Trained Transformer')\n",
    "plt.xticks([])\n",
    "plt.yticks([])\n",
    "plt.xlabel('Sequence')\n",
    "plt.ylabel('Output')\n",
    "plt.subplot(1, 3, 3)\n",
    "plt.imshow(expected_out.T, vmin=-1, vmax=1)\n",
    "plt.title('Expected Output')\n",
    "plt.xticks([])\n",
    "plt.yticks([])\n",
    "plt.xlabel('Sequence')\n",
    "plt.ylabel('Output')\n",
    "plt.show()\n"
   ]
  }
 ],
 "metadata": {
  "kernelspec": {
   "display_name": "Python 3.8.13 ('deepl')",
   "language": "python",
   "name": "python3"
  },
  "language_info": {
   "codemirror_mode": {
    "name": "ipython",
    "version": 3
   },
   "file_extension": ".py",
   "mimetype": "text/x-python",
   "name": "python",
   "nbconvert_exporter": "python",
   "pygments_lexer": "ipython3",
   "version": "3.8.13"
  },
  "orig_nbformat": 4,
  "vscode": {
   "interpreter": {
    "hash": "b96b90247f779626951b155c9e3e4da59f738405f5787b96ce19716c3bf6bd5b"
   }
  }
 },
 "nbformat": 4,
 "nbformat_minor": 2
}
